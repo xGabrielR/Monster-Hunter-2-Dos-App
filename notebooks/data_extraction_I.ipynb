{
 "cells": [
  {
   "cell_type": "markdown",
   "id": "56d52338",
   "metadata": {},
   "source": [
    "# 0.0. Info Table\n",
    "\n",
    "Monster Hunter 2 Dos Database App\n",
    "\n",
    "    1. Lista de Quests separadas por Ranks.\n",
    "    2. Lista de Monstros e suas caracteristicas.\n",
    "    3. Lista de Kitchen Combination separadas por season.\n",
    "    4. Lista de Itens."
   ]
  },
  {
   "cell_type": "code",
   "execution_count": 2,
   "id": "fd288ba7",
   "metadata": {},
   "outputs": [],
   "source": [
    "import sqlite3\n",
    "import requests\n",
    "import pandas as pd\n",
    "\n",
    "from bs4 import BeautifulSoup\n",
    "from sqlalchemy import create_engine"
   ]
  },
  {
   "cell_type": "markdown",
   "id": "59538040",
   "metadata": {},
   "source": [
    "# 1.0. List Itens."
   ]
  },
  {
   "cell_type": "markdown",
   "id": "a90f3a2d",
   "metadata": {},
   "source": [
    "## 1.1. List Itens Collect"
   ]
  },
  {
   "cell_type": "code",
   "execution_count": 135,
   "id": "c90a9525",
   "metadata": {},
   "outputs": [],
   "source": [
    "path = '../data/page.html'\n",
    "\n",
    "soup = BeautifulSoup( open(path).read(), 'html.parser' )\n",
    "\n",
    "list_item = [list( filter( None, p.get_text().split('\\n'))) for p in soup.find_all('tbody')[1].find_all('tr')[1:]]\n",
    "list_item = pd.DataFrame( list_item )"
   ]
  },
  {
   "cell_type": "markdown",
   "id": "09a325bb",
   "metadata": {},
   "source": [
    "## 1.2. List Itens Cleaning"
   ]
  },
  {
   "cell_type": "code",
   "execution_count": 136,
   "id": "e1593285",
   "metadata": {},
   "outputs": [],
   "source": [
    "# Drop Na & Rename Columns\n",
    "list_item = list_item.dropna()\n",
    "list_item.columns = ['id'] + [p.replace(' ', '_').lower() for p in list_item.iloc[0, :].tolist()][1:]\n",
    "list_item = list_item[~list_item['item_name'].str.contains('Item')]\n",
    "\n",
    "# # Individual Columns\n",
    "list_item['quantity']  = list_item['quantity'].replace('two', '2')\n",
    "list_item['quantity']  = list_item['quantity'].replace('(¡ç)', '99')\n",
    "list_item['rare']      = list_item['rare'].replace('two', '2')\n",
    "list_item['buy_price'] = [p+'z' if pd.notnull(p) else p for p in list_item['buy_price'].str.extract( '(\\d+)' )[0].tolist()]\n",
    "list_item['buy_price'] = list_item['buy_price'].fillna( 'No Sale' )\n",
    "list_item['selling_price'] = [p+'z' if pd.notnull(p) else p for p in list_item['selling_price'].str.extract( '(\\d+)' )[0].tolist()]\n",
    "list_item.iloc[269, 1] = 'Sliced cactus'\n",
    "list_item.iloc[:5, 1]  = ['Formulation I Introduction',\n",
    "                         \"Formulation II Beginner's edition\",\n",
    "                         'Formulation III Intermediate',\n",
    "                         'Formulation IV Advanced Edition',\n",
    "                         'Formulation V Master Edition']\n",
    "\n",
    "# # Change Data Types\n",
    "list_item['quantity'] = list_item['quantity'].astype('int64')\n",
    "list_item['rare'] = list_item['rare'].astype('int64')\n",
    "\n",
    "list_item = list_item.reset_index(drop=True)"
   ]
  },
  {
   "cell_type": "markdown",
   "id": "a0f6bde4",
   "metadata": {},
   "source": [
    "# 2.0. List Items Verify"
   ]
  },
  {
   "cell_type": "code",
   "execution_count": 183,
   "id": "dd9f621c",
   "metadata": {},
   "outputs": [],
   "source": [
    "df = pd.read_excel( '../data/mh2dos_itens.xlsx' )\n",
    "\n",
    "# Data Cleaning\n",
    "df.columns = ['jp_name', 'name']+[p.replace(' ', '').lower() for p in df.iloc[2, :].tolist()][2:]\n",
    "df.iloc[746, -2] = 'No Sale'\n",
    "df = df.dropna()\n",
    "df = df[~df['name'].str.contains('Coluna1')]\n",
    "\n",
    "# # Individual Columns\n",
    "df['carry']  = df['carry'].replace('(∞) ', 99)\n",
    "df['rarity'] = df['rarity'].astype('int64')\n",
    "df['buy']    = [p+'z' if pd.notnull(p) else p for p in df['buy'].str.extract( '(\\d+)' )[0].tolist()]\n",
    "df['buy']    = df['buy'].fillna('No Sale')\n",
    "df['sell']   = [p+'z' if pd.notnull(p) else p for p in df['sell'].str.extract( '(\\d+)' )[0].tolist()]\n",
    "\n",
    "# # Chgange Dtypes\n",
    "df['carry'] = df['carry'].astype('int64')\n",
    "df['rarity'] = df['rarity'].astype('int64')\n",
    "\n",
    "df = df.reset_index( drop=True )"
   ]
  },
  {
   "cell_type": "markdown",
   "id": "26236b54",
   "metadata": {},
   "source": [
    "## 2.1. Create New Dataframe"
   ]
  },
  {
   "cell_type": "code",
   "execution_count": 138,
   "id": "7164874a",
   "metadata": {},
   "outputs": [
    {
     "name": "stderr",
     "output_type": "stream",
     "text": [
      "C:\\Users\\T-Gamer\\AppData\\Local\\Temp/ipykernel_12780/3191189436.py:3: UserWarning: This pattern has match groups. To actually get the groups, use str.extract.\n",
      "  df1 = list_item[~list_item['item_name'].str.contains('(dummy)')]\n"
     ]
    }
   ],
   "source": [
    "# Id, name, jp_name, carry, rarity, buy, sell\n",
    "\n",
    "df1 = list_item[~list_item['item_name'].str.contains('(dummy)')]\n",
    "df1 = df1[~df1['item_name'].str.contains('No bottle')]\n",
    "df1 = df1[~df1['item_name'].str.contains('Bonus reward')]\n",
    "df1 = df1[~df1['item_name'].str.contains('Wyvern')]\n",
    "df1 = df1[~df1['item_name'].str.contains('Leftover food in the city')]\n",
    "df1 = df1[~df1['item_name'].str.contains('Key of the dragon spear')]\n",
    "df1 = df1[~df1['item_name'].str.contains('Sleeping ball')]\n",
    "df1 = df1[~df1['item_name'].str.contains('Sedative ball')]\n",
    "df1 = df1[~df1['item_name'].str.contains('Recovery ball')]\n",
    "df1 = df1[~df1['item_name'].str.contains('Yakiniku ticket')]\n",
    "\n",
    "df1 = df1.reset_index( drop=True )"
   ]
  },
  {
   "cell_type": "markdown",
   "id": "3c37ab23",
   "metadata": {},
   "source": [
    "## 2.2. Generate New DataFrame"
   ]
  },
  {
   "cell_type": "code",
   "execution_count": 215,
   "id": "fa069b62",
   "metadata": {},
   "outputs": [],
   "source": [
    "df_raw = pd.concat( [df1[['id']], \n",
    "                     df[['name', 'jp_name', 'carry', 'rarity', 'buy', 'sell']]], \n",
    "                     axis=1 )\n",
    "\n",
    "df_raw = df_raw.reset_index( drop=True )"
   ]
  },
  {
   "cell_type": "markdown",
   "id": "42da3bc9",
   "metadata": {},
   "source": [
    "## 2.3. List Itens Storange"
   ]
  },
  {
   "cell_type": "code",
   "execution_count": 214,
   "id": "f220b902",
   "metadata": {},
   "outputs": [],
   "source": [
    "list_item.to_csv('../data/itens.csv')\n",
    "\n",
    "con = sqlite3.connect( '../sql_databases/itens.sqlite' )\n",
    "c   = con.cursor()\n",
    "\n",
    "query_create_table = '''\n",
    "      CREATE TABLE item (\n",
    "        id         TEXT,\n",
    "        name       TEXT,\n",
    "        jp_name    TEXT,\n",
    "        carry      INTEGER,\n",
    "        rarity     INTEGER,\n",
    "        buy        TEXT,\n",
    "        sell       TEXT ); '''\n",
    "\n",
    "c.execute( query_create_table )\n",
    "con.commit()\n",
    "\n",
    "db  = create_engine( 'sqlite:///../sql_databases/itens.sqlite', echo=False )\n",
    "con = db.connect()\n",
    "\n",
    "df_raw.to_sql( 'item', con=con, if_exists='append', index=False )"
   ]
  }
 ],
 "metadata": {
  "hide_input": false,
  "kernelspec": {
   "display_name": "Python 3 (ipykernel)",
   "language": "python",
   "name": "python3"
  },
  "language_info": {
   "codemirror_mode": {
    "name": "ipython",
    "version": 3
   },
   "file_extension": ".py",
   "mimetype": "text/x-python",
   "name": "python",
   "nbconvert_exporter": "python",
   "pygments_lexer": "ipython3",
   "version": "3.9.5"
  },
  "varInspector": {
   "cols": {
    "lenName": 16,
    "lenType": 16,
    "lenVar": 40
   },
   "kernels_config": {
    "python": {
     "delete_cmd_postfix": "",
     "delete_cmd_prefix": "del ",
     "library": "var_list.py",
     "varRefreshCmd": "print(var_dic_list())"
    },
    "r": {
     "delete_cmd_postfix": ") ",
     "delete_cmd_prefix": "rm(",
     "library": "var_list.r",
     "varRefreshCmd": "cat(var_dic_list()) "
    }
   },
   "types_to_exclude": [
    "module",
    "function",
    "builtin_function_or_method",
    "instance",
    "_Feature"
   ],
   "window_display": false
  }
 },
 "nbformat": 4,
 "nbformat_minor": 5
}
