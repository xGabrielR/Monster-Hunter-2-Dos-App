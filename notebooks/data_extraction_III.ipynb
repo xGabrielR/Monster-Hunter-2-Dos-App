{
 "cells": [
  {
   "cell_type": "markdown",
   "id": "56d52338",
   "metadata": {},
   "source": [
    "# 0.0. Info Table\n",
    "\n",
    "Monster Hunter 2 Dos Database App\n",
    "\n",
    "    1. Lista de Quests separadas por Ranks."
   ]
  },
  {
   "cell_type": "code",
   "execution_count": 19,
   "id": "fd288ba7",
   "metadata": {},
   "outputs": [],
   "source": [
    "import re\n",
    "import sqlite3\n",
    "import pandas as pd\n",
    "\n",
    "from sqlalchemy import create_engine"
   ]
  },
  {
   "cell_type": "markdown",
   "id": "3fca50c9",
   "metadata": {},
   "source": [
    "# 1.0. Kitchen Combinations Data"
   ]
  },
  {
   "cell_type": "markdown",
   "id": "77f7d2b7",
   "metadata": {},
   "source": [
    "## 1.1. Clean Data Function"
   ]
  },
  {
   "cell_type": "code",
   "execution_count": 47,
   "id": "4be73043",
   "metadata": {},
   "outputs": [],
   "source": [
    "def clean_data( df ):\n",
    "    # Filter Columns and Rename\n",
    "    df.columns = ['no', 'first_food', 'second_food', 'recipe', 'health', 'stamina', 'attack', 'defense']\n",
    "    df = df.drop( columns=['no'], axis=1 )\n",
    "    df = df[~df['first_food'].str.contains('Foods')]\n",
    "\n",
    "    # Individual Columns\n",
    "    df['first_food']  = df['first_food'].str.replace('\\xa0', ' ')\n",
    "    df['second_food'] = df['second_food'].str.replace('\\xa0', ' ')\n",
    "\n",
    "    df['health']  = df['health'].fillna( 'Health：+0' )\n",
    "    df['stamina'] = df['stamina'].fillna( 'Stamina：+0' )\n",
    "    df['attack']  = df['attack'].fillna( 'Atk Up：+0' )\n",
    "    df['defense'] = df['defense'].fillna( 'Def Up：+0' )\n",
    "\n",
    "    df['health']  = df['health'].str.extract('(\\-?\\+?\\d+)')[0]\n",
    "    df['stamina'] = df['stamina'].str.extract('(\\-?\\+?\\d+)')[0]\n",
    "    df['attack']  = df['attack'].str.extract('(\\-?\\+?\\d+)')[0]\n",
    "    df['defense'] = df['defense'].str.extract('(\\-?\\+?\\d+)')[0]\n",
    "\n",
    "    df = df.reset_index( drop=True )\n",
    "    \n",
    "    return df"
   ]
  },
  {
   "cell_type": "markdown",
   "id": "3248cc9b",
   "metadata": {},
   "source": [
    "## 1.2. Load and Clean Recipes Data"
   ]
  },
  {
   "cell_type": "code",
   "execution_count": 50,
   "id": "02522c94",
   "metadata": {},
   "outputs": [],
   "source": [
    "df_winter  = pd.read_excel( '../pdf_excel/winter.xlsx' )\n",
    "df_summer  = pd.read_excel( '../pdf_excel/summer.xlsx' )\n",
    "df_breeder = pd.read_excel( '../pdf_excel/breeder.xlsx' )\n",
    "\n",
    "df_winter  = clean_data( df=df_winter )\n",
    "df_summer  = clean_data( df=df_summer )\n",
    "df_breeder = clean_data( df=df_breeder )"
   ]
  },
  {
   "cell_type": "markdown",
   "id": "38837d3a",
   "metadata": {},
   "source": [
    "## 1.3. Kitchen Recipes Storange"
   ]
  },
  {
   "cell_type": "code",
   "execution_count": 57,
   "id": "0b3adaea",
   "metadata": {},
   "outputs": [],
   "source": [
    "df_winter.to_csv( '../data/recipes_winter.csv' )\n",
    "df_summer.to_csv( '../data/recipes_summer.csv' )\n",
    "df_breeder.to_csv( '../data/recipes_breeder.csv' )\n",
    "\n",
    "list_seasons = ['winter', 'summer', 'breeder']"
   ]
  },
  {
   "cell_type": "code",
   "execution_count": 67,
   "id": "a9e40ec4",
   "metadata": {
    "collapsed": true
   },
   "outputs": [
    {
     "name": "stdout",
     "output_type": "stream",
     "text": [
      "winter\n",
      "summer\n",
      "breeder\n"
     ]
    }
   ],
   "source": [
    "con = sqlite3.connect( '../sql_databases/recipes.sqlite' )\n",
    "c   = con.cursor()\n",
    "\n",
    "for i in range( len( list_seasons) ):\n",
    "    query_crate_table = '''\n",
    "        CREATE TABLE ''' + list_seasons[i] + ''' (\n",
    "            first_food     TEXT,\n",
    "            second_food    TEXT,\n",
    "            recipe         TEXT,\n",
    "            health         TEXT,\n",
    "            stamina        TEXT,\n",
    "            attack         TEXT,\n",
    "            defense        TEXT );'''\n",
    "    \n",
    "    c.execute(query_crate_table)\n",
    "    con.commit()"
   ]
  },
  {
   "cell_type": "code",
   "execution_count": 69,
   "id": "b5a3c922",
   "metadata": {},
   "outputs": [],
   "source": [
    "db  = create_engine( 'sqlite:///../sql_databases/recipes.sqlite' )\n",
    "con = db.connect()\n",
    "\n",
    "df_winter.to_sql(  'winter',  con=con, if_exists='append', index=False )\n",
    "df_summer.to_sql(  'summer',  con=con, if_exists='append', index=False )\n",
    "df_breeder.to_sql( 'breeder', con=con, if_exists='append', index=False )"
   ]
  }
 ],
 "metadata": {
  "hide_input": false,
  "kernelspec": {
   "display_name": "Python 3 (ipykernel)",
   "language": "python",
   "name": "python3"
  },
  "language_info": {
   "codemirror_mode": {
    "name": "ipython",
    "version": 3
   },
   "file_extension": ".py",
   "mimetype": "text/x-python",
   "name": "python",
   "nbconvert_exporter": "python",
   "pygments_lexer": "ipython3",
   "version": "3.9.5"
  },
  "varInspector": {
   "cols": {
    "lenName": 16,
    "lenType": 16,
    "lenVar": 40
   },
   "kernels_config": {
    "python": {
     "delete_cmd_postfix": "",
     "delete_cmd_prefix": "del ",
     "library": "var_list.py",
     "varRefreshCmd": "print(var_dic_list())"
    },
    "r": {
     "delete_cmd_postfix": ") ",
     "delete_cmd_prefix": "rm(",
     "library": "var_list.r",
     "varRefreshCmd": "cat(var_dic_list()) "
    }
   },
   "types_to_exclude": [
    "module",
    "function",
    "builtin_function_or_method",
    "instance",
    "_Feature"
   ],
   "window_display": false
  }
 },
 "nbformat": 4,
 "nbformat_minor": 5
}
