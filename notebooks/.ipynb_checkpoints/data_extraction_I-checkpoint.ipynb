{
 "cells": [
  {
   "cell_type": "markdown",
   "id": "18dcd114",
   "metadata": {},
   "source": [
    "# 0.0. Info Table"
   ]
  },
  {
   "cell_type": "markdown",
   "id": "ea3cf83c",
   "metadata": {},
   "source": [
    "Monster Hunter 2 Dos Database App\n",
    "\n",
    "    1. Lista de Quests separadas por Ranks.\n",
    "    2. Lista de Monstros e suas caracteristicas.\n",
    "    3. Lista de Kitchen Combination separadas por season.\n",
    "    4. Lista de Itens."
   ]
  },
  {
   "cell_type": "code",
   "execution_count": 1,
   "id": "70998248",
   "metadata": {},
   "outputs": [],
   "source": [
    "import re\n",
    "import sqlite3\n",
    "import requests\n",
    "import pandas as pd\n",
    "\n",
    "from bs4 import BeautifulSoup\n",
    "from sqlalchemy import create_engine"
   ]
  },
  {
   "cell_type": "markdown",
   "id": "ee90deda",
   "metadata": {},
   "source": [
    "# 1.0. List Items"
   ]
  },
  {
   "cell_type": "markdown",
   "id": "c9dc5902",
   "metadata": {},
   "source": [
    "## 1.1. List Items Data Collect"
   ]
  },
  {
   "cell_type": "code",
   "execution_count": 2,
   "id": "f6fbf6d0",
   "metadata": {},
   "outputs": [],
   "source": [
    "path = '../data/raw/list_items.html'\n",
    "soup = BeautifulSoup( open(path).read() )"
   ]
  },
  {
   "cell_type": "code",
   "execution_count": 3,
   "id": "331acbf3",
   "metadata": {},
   "outputs": [],
   "source": [
    "list_items = [list(filter( None, p.get_text().split('\\n'))) for p in soup.find_all('tbody')[1].find_all('tr')]\n",
    "list_items = pd.DataFrame(list_items[1:])\n",
    "\n",
    "# Select List Items Data and Rename Columns\n",
    "list_items.columns = list( map( lambda x: x.replace(' ', '_').lower(), list_items.iloc[0, :].tolist() ) )\n",
    "list_items = list_items.dropna()\n",
    "list_items = list_items[~list_items['item_name'].str.contains('Item name')]"
   ]
  },
  {
   "cell_type": "markdown",
   "id": "e7303e98",
   "metadata": {},
   "source": [
    "## 1.2. List Items Data Cleaning"
   ]
  },
  {
   "cell_type": "code",
   "execution_count": 4,
   "id": "fb140a1c",
   "metadata": {},
   "outputs": [],
   "source": [
    "list_items['quantity']      = list_items['quantity'].replace( 'two', '2' )\n",
    "list_items['quantity']      = list_items['quantity'].replace('(¡ç)', '99')\n",
    "list_items['rare']          = list_items['rare'].replace( 'two', '2' )\n",
    "list_items['buy_price']     = [p+'z' if pd.notnull(p) else p for p in list_items['buy_price'].str.extract( '(\\d+)' )[0].tolist()]\n",
    "list_items['buy_price']     = list_items['buy_price'].fillna( 'No Sale' )\n",
    "list_items['selling_price'] = [p+'z' if pd.notnull(p) else p for p in list_items['selling_price'].str.extract( '(\\d+)' )[0].tolist()]\n",
    "list_items['item_name'][:5] = ['Formulation I Introduction', \n",
    "                               \"Formulation II Beginner's edition\", \n",
    "                               'Formulation III Intermediate', \n",
    "                               'Formulation IV Advanced Edition',\n",
    "                               'Formulation V Master Edition']\n",
    "\n",
    "# Change Dtypes\n",
    "list_items['rare']     = list_items['rare'].astype('int64')\n",
    "list_items['quantity'] = list_items['quantity'].astype('int64')\n",
    "\n",
    "# Reset Index\n",
    "list_items = list_items.reset_index( drop=True )\n",
    "\n",
    "list_items.columns = ['id'] + list_items.columns.tolist()[1:]"
   ]
  },
  {
   "cell_type": "markdown",
   "id": "6aa6a83a",
   "metadata": {},
   "source": [
    "## 1.3. List Items Data Storange"
   ]
  },
  {
   "cell_type": "code",
   "execution_count": 6,
   "id": "14efb4aa",
   "metadata": {},
   "outputs": [],
   "source": [
    "# Save to CSV file\n",
    "list_items.to_csv( '../data/list_items.csv' )"
   ]
  },
  {
   "cell_type": "code",
   "execution_count": 209,
   "id": "6dbf06a6",
   "metadata": {},
   "outputs": [],
   "source": [
    "# Save on Database\n",
    "con = sqlite3.connect( '../sql_db/items_db.sqlite' )\n",
    "c   = con.cursor()\n",
    "\n",
    "query_items_tabel = '''\n",
    "    CREATE TABLE items (\n",
    "        id               TEXT,\n",
    "        item_name        TEXT,\n",
    "        quantity         INTEGER,\n",
    "        rare             INTEGER,\n",
    "        buy_price        TEXT,\n",
    "        selling_price    TEXT\n",
    "    );'''\n",
    "\n",
    "c.execute( query_items_tabel )\n",
    "con.commit()\n",
    "\n",
    "db = create_engine( 'sqlite:///../sql_db/items_db.sqlite', echo=False )\n",
    "con = db.connect()\n",
    "\n",
    "list_items.to_sql( 'items', con=con, if_exists='append', index=False )"
   ]
  },
  {
   "cell_type": "markdown",
   "id": "da861ed9",
   "metadata": {},
   "source": [
    "# 2.0. List Quests"
   ]
  },
  {
   "cell_type": "markdown",
   "id": "8fc163a7",
   "metadata": {
    "heading_collapsed": true
   },
   "source": [
    "# 4.0. List Monsters"
   ]
  },
  {
   "cell_type": "code",
   "execution_count": null,
   "id": "c723608f",
   "metadata": {
    "hidden": true
   },
   "outputs": [],
   "source": []
  },
  {
   "cell_type": "markdown",
   "id": "612bc4f6",
   "metadata": {
    "heading_collapsed": true
   },
   "source": [
    "# 3.0. List Kitchen Combination"
   ]
  },
  {
   "cell_type": "code",
   "execution_count": null,
   "id": "01e97e10",
   "metadata": {
    "hidden": true
   },
   "outputs": [],
   "source": []
  }
 ],
 "metadata": {
  "hide_input": false,
  "kernelspec": {
   "display_name": "Python 3 (ipykernel)",
   "language": "python",
   "name": "python3"
  },
  "language_info": {
   "codemirror_mode": {
    "name": "ipython",
    "version": 3
   },
   "file_extension": ".py",
   "mimetype": "text/x-python",
   "name": "python",
   "nbconvert_exporter": "python",
   "pygments_lexer": "ipython3",
   "version": "3.9.5"
  },
  "varInspector": {
   "cols": {
    "lenName": 16,
    "lenType": 16,
    "lenVar": 40
   },
   "kernels_config": {
    "python": {
     "delete_cmd_postfix": "",
     "delete_cmd_prefix": "del ",
     "library": "var_list.py",
     "varRefreshCmd": "print(var_dic_list())"
    },
    "r": {
     "delete_cmd_postfix": ") ",
     "delete_cmd_prefix": "rm(",
     "library": "var_list.r",
     "varRefreshCmd": "cat(var_dic_list()) "
    }
   },
   "types_to_exclude": [
    "module",
    "function",
    "builtin_function_or_method",
    "instance",
    "_Feature"
   ],
   "window_display": false
  }
 },
 "nbformat": 4,
 "nbformat_minor": 5
}
