{
 "cells": [
  {
   "cell_type": "markdown",
   "id": "56d52338",
   "metadata": {},
   "source": [
    "# 0.0. Info Table\n",
    "\n",
    "Monster Hunter 2 Dos Database App\n",
    "\n",
    "    1. Lista de Quests separadas por Ranks."
   ]
  },
  {
   "cell_type": "code",
   "execution_count": 1,
   "id": "fd288ba7",
   "metadata": {},
   "outputs": [],
   "source": [
    "import re\n",
    "import sqlite3\n",
    "import requests\n",
    "import pandas as pd\n",
    "\n",
    "from bs4 import BeautifulSoup\n",
    "from sqlalchemy import create_engine"
   ]
  },
  {
   "cell_type": "markdown",
   "id": "3fca50c9",
   "metadata": {},
   "source": [
    "# 1.0. Quest List Data"
   ]
  },
  {
   "cell_type": "markdown",
   "id": "22db07e0",
   "metadata": {},
   "source": [
    "## 1.1. Jp Hunter Basics Quest List"
   ]
  },
  {
   "cell_type": "markdown",
   "id": "0f3b9cd7",
   "metadata": {},
   "source": [
    "### 1.1.0. Jp Data Collect"
   ]
  },
  {
   "cell_type": "code",
   "execution_count": 2,
   "id": "63a1f8d4",
   "metadata": {},
   "outputs": [],
   "source": [
    "path = '../data/quest.html'\n",
    "\n",
    "soup = BeautifulSoup( open(path).read(), 'html.parser' )\n",
    "\n",
    "list_train_quests = [list( filter( None, p.get_text().split('\\n'))) for p in soup.find_all( 'table', class_='cnt-tb2' )[-1].find_all('tr')]"
   ]
  },
  {
   "cell_type": "markdown",
   "id": "e0894c15",
   "metadata": {},
   "source": [
    "### 1.1.1. Jp Data Cleaning"
   ]
  },
  {
   "cell_type": "code",
   "execution_count": 109,
   "id": "2c936a05",
   "metadata": {},
   "outputs": [],
   "source": [
    "df_train = pd.DataFrame( list_train_quests )\n",
    "\n",
    "# Rename Columns and Filter Rows\n",
    "df_train.columns = ['id', 'rank']+[p.replace(' ', '_').lower() for p in df_train.iloc[0, :].tolist()][2:]\n",
    "df_train = df_train[~df_train['quest_name'].str.contains('Quest name')]\n",
    "df_train = df_train.drop( columns=['special_conditions'], axis=1 )\n",
    "df_train = df_train.reset_index( drop=True )\n",
    "df_train = df_train.drop( columns=['season', 'contract_money', 'hrp'], axis=1 )\n",
    "\n",
    "# Individual Columns\n",
    "df_train['rank']         = df_train['rank'].replace('¡ù£±', 1)\n",
    "df_train['rank']         = df_train['rank'].replace('¡ù£²', 2)\n",
    "df_train['rank']         = df_train['rank'].replace('¡ù£³', 3)\n",
    "df_train['rank']         = df_train['rank'].replace('¡ù£´', 4)\n",
    "df_train['rank']         = df_train['rank'].replace('¡ù£µ', 5)\n",
    "df_train['quest_name']   = df_train['quest_name'].str.replace('¢ã', '')\n",
    "df_train['quest_name']   = df_train['quest_name'].str.replace('¢ä', '')\n",
    "df_train['time']         = df_train['time'].str.extract('(\\d+)')\n",
    "df_train['destination']  = df_train['destination'].apply( lambda x: x.title() )\n",
    "df_train['quest_name']   = [p.lower().replace('<< basics of hunter >> ', '')\n",
    "                                   .replace('«basic hunter» ', '').strip().title() for p in df_train['quest_name'].tolist()]\n",
    "df_train['remuneration'] = [str(int(k[0]) + int(k[1]) + int(k[2]))+'z' for k in \n",
    "                                 [re.findall( '\\d+', p ) for p in df_train['remuneration'].tolist()]]\n",
    "\n",
    "df_train = df_train.reset_index( drop=True )\n",
    "\n",
    "df_train['request_details'] = [j[2:] if j.startswith('/') else j for j in [p.replace('None',        '/ None')\n",
    "                                             .replace('Delivery',    '/ Delivery')\n",
    "                                             .replace('Hunting',     '/ Hunting' )\n",
    "                                             .replace('Subjugation', '/ Subjugation').strip() for p in df_train['request_details'].tolist()]]\n",
    "\n",
    "# Generate New DataFrame\n",
    "df_aux = df_train['request_details'].str.split('/', expand=True).reset_index( drop=True )\n",
    "\n",
    "# Clean New DataFrame\n",
    "for i in range( 3 ):\n",
    "    df_aux[i] = df_aux[i].apply( lambda x: x.lower() if pd.notnull( x ) else x )\n",
    "    df_aux[i] = df_aux[i].str.replace( 'subjugation', 'hunt' )\n",
    "    df_aux[i] = df_aux[i].str.replace( 'hunting',     'hunt' )\n",
    "    df_aux[i] = df_aux[i].str.replace( 'delivery',   'deliver' )\n",
    "    df_aux[i] = df_aux[i].str.replace( 'defeat ',     'hunt' )\n",
    "    df_aux[i] = df_aux[i].apply( lambda x: x.strip() if pd.notnull( x ) else x )\n",
    "    df_aux[i] = df_aux[i].str.replace( 'None', 'No Sub' )\n",
    "    \n",
    "    # Index Verify\n",
    "    df_aux.iloc[20, 0] = 'Defeat 25 Langosta'\n",
    "    df_aux.iloc[20, 1] = 'Deliver 10 Spice Worms'\n",
    "    df_aux.iloc[20, 2] = 'Deliver 8 Monster Body Fluids'\n",
    "    df_aux.iloc[26, 0] = 'Dunt of 40 White Lampos'\n",
    "    df_aux.iloc[26, 1] = 'Deliver 7 Kerubi Horns'\n",
    "    df_aux.iloc[26, 2] = 'Hunt of 4 Blanco'\n",
    "    \n",
    "    df_aux[i] = df_aux[i].apply( lambda x: x.title() if pd.notnull( x ) else x )\n",
    "\n",
    "# Ranema and Drop Columns \n",
    "df_aux.columns = ['main', 'sub_a', 'sub_b']\n",
    "df_train.columns = df_train.columns.tolist()[:2]+['name', 'reward', 'time', 'area']\n",
    "df_train = df_train.drop( columns=['request_details'], axis=1 )\n",
    "df_aux['main'] = df_aux['main'].apply( lambda x: x.replace(' Of', '') if x.endswith('Of') else x )\n",
    "\n",
    "# Concat Columns\n",
    "df_train = pd.concat( [df_train, df_aux], axis=1 )"
   ]
  },
  {
   "cell_type": "markdown",
   "id": "3c651b61",
   "metadata": {},
   "source": [
    "## 1.2. En Quest List "
   ]
  },
  {
   "cell_type": "code",
   "execution_count": 387,
   "id": "01ad0856",
   "metadata": {},
   "outputs": [],
   "source": [
    "url = 'https://monsterhunter.fandom.com/wiki/MH2:_Quests'\n",
    "hdr = {'User-Agent': 'Mozilla/5.0 (Macintosh; Intel Mac OS X 10_11_5),AppleWebKit/537.36 (KHTML, like Gecko) Chrome/50.0.2661.102 Safari/537.36'}\n",
    "\n",
    "soup = BeautifulSoup( requests.get( url, hdr ).text , 'html.parser' )\n",
    "\n",
    "total_quests = int(len(soup.find_all('table')[1:]) / 3)\n",
    "color_list   = ['#007d11;', '#a57564;', '#53305C;', '#8C8F83;', '#762622;', '#93C72C;', '#8a7518;']"
   ]
  },
  {
   "cell_type": "markdown",
   "id": "de3e491a",
   "metadata": {},
   "source": [
    "### 1.2.0. One Quest"
   ]
  },
  {
   "cell_type": "code",
   "execution_count": 177,
   "id": "3e2f1eba",
   "metadata": {},
   "outputs": [],
   "source": [
    "list_quests = soup.find_all('table', {'style': 'border: 3px solid #007d11; background-color:#AC9A7E; color:#371c01; width:100%;'})\n",
    "\n",
    "# Name, Main, Reward, Time, Season, Sub A,, Sub_a_reward Sub B, sub_b_reward\n",
    "\n",
    "q_name      = list_quests[0].find('span', class_='mw-headline').get_text()\n",
    "q_main      = list_quests[0].find_all('p')[1].get_text()\n",
    "q_main_rwd  = list_quests[0].find_all('p')[2].get_text().split('\\n')[1]\n",
    "q_season    = list_quests[0].find_all('img')[0]['alt']\n",
    "q_time      = list_quests[0].find_all('p')[2].get_text().split('\\n')[0]\n",
    "q_sub_a     = list_quests[0].find_all('td', attrs={'colspan': '2'})[1].get_text()\n",
    "q_sub_b     = list_quests[0].find_all('td', attrs={'colspan': '2'})[2].get_text()\n",
    "q_sub_a_rwd = list_quests[0].find_all('p')[2].get_text().split('\\n')[2]\n",
    "q_sub_b_rwd = list_quests[0].find_all('p')[2].get_text().split('\\n')[3]"
   ]
  },
  {
   "cell_type": "markdown",
   "id": "9f7f5345",
   "metadata": {},
   "source": [
    "### 1.2.1. Multiple Index"
   ]
  },
  {
   "cell_type": "code",
   "execution_count": 498,
   "id": "2bdb1779",
   "metadata": {},
   "outputs": [],
   "source": [
    "df = pd.DataFrame( columns=['name', 'main', 'reward', 'season', 'time', 'sub_a', 'sub_b', 'sub_a_reward', 'sub_b_reward'] )\n",
    "\n",
    "for i in range( len( list_quests ) ):\n",
    "    list_quests = soup.find_all('table', {'style': 'border: 3px solid #007d11; background-color:#AC9A7E; color:#371c01; width:100%;'})\n",
    "\n",
    "    # Name, Main, Reward, Time, Season, Sub A,, Sub_a_reward Sub B, sub_b_reward\n",
    "    q_name      = list_quests[i].find('span', class_='mw-headline').get_text()\n",
    "    q_main      = list_quests[i].find_all('p')[1].get_text()\n",
    "    q_main_rwd  = list_quests[i].find_all('p')[2].get_text().split('\\n')[1]\n",
    "    q_season    = list_quests[i].find_all('img')[0]['alt']\n",
    "    q_time      = list_quests[i].find_all('p')[2].get_text().split('\\n')[0]\n",
    "    q_sub_a     = list_quests[i].find_all('td', attrs={'colspan': '2'})[1].get_text()\n",
    "    q_sub_b     = list_quests[i].find_all('td', attrs={'colspan': '2'})[2].get_text()\n",
    "    q_sub_a_rwd = list_quests[i].find_all('p')[2].get_text().split('\\n')[2]\n",
    "    q_sub_b_rwd = list_quests[i].find_all('p')[2].get_text().split('\\n')[3]\n",
    "    \n",
    "    df_aux = pd.DataFrame( [q_name, q_main, q_main_rwd, q_season, q_time, q_sub_a, q_sub_b, q_sub_a_rwd, q_sub_b_rwd] ).T\n",
    "    df_aux.columns = ['name', 'main', 'reward', 'season', 'time', 'sub_a', 'sub_b', 'sub_a_reward', 'sub_b_reward']\n",
    "    \n",
    "    df = pd.concat( [df, df_aux], axis=0 )"
   ]
  },
  {
   "cell_type": "code",
   "execution_count": 535,
   "id": "81ebde6c",
   "metadata": {},
   "outputs": [
    {
     "data": {
      "text/html": [
       "<div>\n",
       "<style scoped>\n",
       "    .dataframe tbody tr th:only-of-type {\n",
       "        vertical-align: middle;\n",
       "    }\n",
       "\n",
       "    .dataframe tbody tr th {\n",
       "        vertical-align: top;\n",
       "    }\n",
       "\n",
       "    .dataframe thead th {\n",
       "        text-align: right;\n",
       "    }\n",
       "</style>\n",
       "<table border=\"1\" class=\"dataframe\">\n",
       "  <thead>\n",
       "    <tr style=\"text-align: right;\">\n",
       "      <th></th>\n",
       "      <th>name</th>\n",
       "      <th>main</th>\n",
       "      <th>reward</th>\n",
       "      <th>season</th>\n",
       "      <th>time</th>\n",
       "      <th>sub_a</th>\n",
       "      <th>sub_b</th>\n",
       "      <th>sub_a_reward</th>\n",
       "      <th>sub_b_reward</th>\n",
       "    </tr>\n",
       "  </thead>\n",
       "  <tbody>\n",
       "    <tr>\n",
       "      <th>0</th>\n",
       "      <td>Familiarize with the environments of the jungle!</td>\n",
       "      <td>Deliver Special Mushroom (特産キノコ): X5\\n</td>\n",
       "      <td>Reward: 300ｚ</td>\n",
       "      <td>Warm Season</td>\n",
       "      <td>Time Limit: 50 min.</td>\n",
       "      <td>Deliver Royal Beetle (ロイヤルカブト): X2\\n</td>\n",
       "      <td>Deliver Raw Meat (生肉): X4\\n</td>\n",
       "      <td>Subquest A Reward: 450ｚ</td>\n",
       "      <td>Subquest B Reward 100ｚ</td>\n",
       "    </tr>\n",
       "  </tbody>\n",
       "</table>\n",
       "</div>"
      ],
      "text/plain": [
       "                                               name  \\\n",
       "0  Familiarize with the environments of the jungle!   \n",
       "\n",
       "                                     main        reward       season  \\\n",
       "0  Deliver Special Mushroom (特産キノコ): X5\\n  Reward: 300ｚ  Warm Season   \n",
       "\n",
       "                  time                                 sub_a  \\\n",
       "0  Time Limit: 50 min.  Deliver Royal Beetle (ロイヤルカブト): X2\\n   \n",
       "\n",
       "                         sub_b             sub_a_reward  \\\n",
       "0  Deliver Raw Meat (生肉): X4\\n  Subquest A Reward: 450ｚ   \n",
       "\n",
       "             sub_b_reward  \n",
       "0  Subquest B Reward 100ｚ  "
      ]
     },
     "execution_count": 535,
     "metadata": {},
     "output_type": "execute_result"
    }
   ],
   "source": [
    "df.head(1)"
   ]
  },
  {
   "cell_type": "markdown",
   "id": "98246730",
   "metadata": {},
   "source": [
    "### 1.2.1. Multiple Quests"
   ]
  },
  {
   "cell_type": "code",
   "execution_count": 418,
   "id": "71c94916",
   "metadata": {},
   "outputs": [],
   "source": [
    "color_list   = ['#007d11;', '#a57564;', '#53305C;', '#8C8F83;', '#762622;', '#93C72C;', '#8a7518;']\n",
    "\n",
    "df = pd.DataFrame( columns=['name', 'main', 'reward', 'area', 'season', 'time', 'sub_a', 'sub_b', 'sub_a_reward', 'sub_b_reward'] )\n",
    "\n",
    "for p in color_list:\n",
    "    list_quests = soup.find_all('table', {'style': \"border: 3px solid \"+ p +\" background-color:#AC9A7E; color:#371c01; width:100%;\"})\n",
    "    list_colors = soup.find_all('td', {'style': \"background-color:\" + p +\" color:#000000; font-weight:bold; font-size:9pt; text-align:left;\" })\n",
    "    \n",
    "    for i in range( len( list_quests ) ):\n",
    "        # Name, Main, Reward, Area, Time, Season, Sub A,, Sub_a_reward Sub B, sub_b_reward\n",
    "        q_name      = list_quests[i].find('span', class_='mw-headline').get_text()\n",
    "        q_main      = list_quests[i].find_all('p')[1].get_text()\n",
    "        q_main_rwd  = list_quests[i].find_all('p')[2].get_text().split('\\n')[1]\n",
    "        q_area      = list_colors[i].get_text().replace('\\n', '')\n",
    "        q_season    = list_quests[i].find_all('img')[0]['alt']\n",
    "        q_time      = list_quests[i].find_all('p')[2].get_text().split('\\n')[0]\n",
    "        q_sub_a     = list_quests[i].find_all('td', attrs={'colspan': '2'})[1].get_text()\n",
    "        q_sub_b     = list_quests[i].find_all('td', attrs={'colspan': '2'})[2].get_text()\n",
    "        q_sub_a_rwd = list_quests[i].find_all('p')[2].get_text().split('\\n')[2]\n",
    "        q_sub_b_rwd = list_quests[i].find_all('p')[2].get_text().split('\\n')[3]\n",
    "\n",
    "        df_aux = pd.DataFrame( [q_name, q_main, q_main_rwd, q_area, q_season, q_time, q_sub_a, q_sub_b, q_sub_a_rwd, q_sub_b_rwd] ).T\n",
    "        df_aux.columns = ['name', 'main', 'reward', 'area', 'season', 'time', 'sub_a', 'sub_b', 'sub_a_reward', 'sub_b_reward']\n",
    "\n",
    "        df = pd.concat( [df, df_aux], axis=0 )"
   ]
  },
  {
   "cell_type": "markdown",
   "id": "9b625b0c",
   "metadata": {},
   "source": [
    "### 1.2.3 En Data Cleaning"
   ]
  },
  {
   "cell_type": "code",
   "execution_count": 428,
   "id": "2de23fed",
   "metadata": {},
   "outputs": [],
   "source": [
    "df1 = df.copy()\n",
    "df1 = df1.reset_index( drop=True )\n",
    "\n",
    "# Individual Columns\n",
    "df1['main']   = df1['main'].apply( lambda x: x.replace( ' (特産キノコ)', '' ).replace( '\\n', '' ) )\n",
    "df1['season'] = df1['season'].apply( lambda x: x.lower().replace(' season', '') )\n",
    "df1['area']   = df1['area'].str.extract('([a-zA-Z ]+)')[0]\n",
    "df1['time']   = df1['time'].str.extract('(\\d+)')[0]\n",
    "df1['sub_a']  = df1['sub_a'].apply( lambda x: x.replace('\\n', '').replace('N/A', 'No Sub') )\n",
    "df1['sub_b']  = df1['sub_b'].apply( lambda x: x.replace('\\n', '').replace('N/A', 'No Sub') )\n",
    "df1['sub_b']  = df1['sub_b'].apply( lambda x: x.replace( '', 'No Sub' ) if len(x) == 0 else x )\n",
    "\n",
    "# Generate Full Reward\n",
    "reward = df1['reward'].str.extract('(\\d+)')[0].tolist()\n",
    "sub_a  = df1['sub_a_reward'].str.extract('(\\d+)')[0].tolist()\n",
    "sub_b  = df1['sub_b_reward'].str.extract('(\\d+)')[0].tolist()\n",
    "df1['full_reward'] = [str(int(reward[p]) \n",
    "                        + int(sub_a[p]) \n",
    "                        + int(sub_b[p]))+'z' for p in range( len( reward ) )]\n",
    "\n",
    "df1['reward']       = [p+'z' for p in reward]\n",
    "df1['sub_a_reward'] = [p+'z' for p in sub_a]\n",
    "df1['sub_b_reward'] = [p+'z' for p in sub_b]\n",
    "\n",
    "df1 = df1[['name', 'main', 'reward', 'area', 'full_reward', 'season', 'time', 'sub_a', 'sub_b', 'sub_a_reward', 'sub_b_reward']]\n",
    "df1 = df1.reset_index( drop=True )\n",
    "\n",
    "# Generate Individual Monster Ranks\n",
    "df1['rank'] = 1\n",
    "df1.iloc[10:16, -1] = 2\n",
    "df1.iloc[16, -1]    = 3\n",
    "df1.iloc[17, -1]    = 4\n",
    "df1.iloc[18:20, -1] = 2\n",
    "df1.iloc[20:23, -1] = 2\n",
    "df1.iloc[23:29, -1] = 3\n",
    "df1.iloc[36:40, -1] = 2\n",
    "df1.iloc[40:43, -1] = 3\n",
    "df1.iloc[43:46, -1] = 4\n",
    "df1.iloc[47:49, -1] = 2\n",
    "df1.iloc[49:51, -1] = 3\n",
    "df1.iloc[51:53, -1] = 4\n",
    "df1.iloc[56:60, -1] = 3\n",
    "df1.iloc[60:62, -1] = 4\n",
    "df1.iloc[62:65, -1] = 2\n",
    "df1.iloc[65, -1]  = 4\n",
    "df1.iloc[66, -1]  = 3\n",
    "df1.iloc[67:, -1] = 4"
   ]
  },
  {
   "cell_type": "markdown",
   "id": "2702cb49",
   "metadata": {},
   "source": [
    "## 1.3. List Quests Storange "
   ]
  },
  {
   "cell_type": "code",
   "execution_count": null,
   "id": "667d9222",
   "metadata": {},
   "outputs": [],
   "source": [
    "df_train.to_csv('../data/quest_train.csv')\n",
    "df1.to_csv('../data/quest_village.csv')"
   ]
  },
  {
   "cell_type": "code",
   "execution_count": 437,
   "id": "14d9b26e",
   "metadata": {},
   "outputs": [],
   "source": [
    "con = sqlite3.connect( '../sql_databases/quests.sqlite' )\n",
    "c   = con.cursor()\n",
    "\n",
    "query_create_table = '''\n",
    "    CREATE TABLE village (\n",
    "        name            TEXT,\n",
    "        main            TEXT,\n",
    "        reward          TEXT,\n",
    "        area            TEXT,\n",
    "        full_reward     TEXT,\n",
    "        season          TEXT,\n",
    "        time            TEXT,\n",
    "        sub_a           TEXT,\n",
    "        sub_b           TEXT,\n",
    "        sub_a_reward    TEXT,\n",
    "        sub_b_reward    TEXT,\n",
    "        rank            INTEGER );'''\n",
    "\n",
    "c.execute( query_create_table )\n",
    "con.commit()"
   ]
  },
  {
   "cell_type": "code",
   "execution_count": 441,
   "id": "88f12726",
   "metadata": {},
   "outputs": [],
   "source": [
    "db  = create_engine( 'sqlite:///../sql_databases/quests.sqlite', echo=False )\n",
    "con = db.connect()\n",
    "\n",
    "df_train.to_sql( 'train', con=con, if_exists='append', index=False )\n",
    "df1.to_sql( 'village', con=con, if_exists='append', index=False )"
   ]
  }
 ],
 "metadata": {
  "hide_input": false,
  "kernelspec": {
   "display_name": "Python 3 (ipykernel)",
   "language": "python",
   "name": "python3"
  },
  "language_info": {
   "codemirror_mode": {
    "name": "ipython",
    "version": 3
   },
   "file_extension": ".py",
   "mimetype": "text/x-python",
   "name": "python",
   "nbconvert_exporter": "python",
   "pygments_lexer": "ipython3",
   "version": "3.9.5"
  },
  "varInspector": {
   "cols": {
    "lenName": 16,
    "lenType": 16,
    "lenVar": 40
   },
   "kernels_config": {
    "python": {
     "delete_cmd_postfix": "",
     "delete_cmd_prefix": "del ",
     "library": "var_list.py",
     "varRefreshCmd": "print(var_dic_list())"
    },
    "r": {
     "delete_cmd_postfix": ") ",
     "delete_cmd_prefix": "rm(",
     "library": "var_list.r",
     "varRefreshCmd": "cat(var_dic_list()) "
    }
   },
   "types_to_exclude": [
    "module",
    "function",
    "builtin_function_or_method",
    "instance",
    "_Feature"
   ],
   "window_display": false
  }
 },
 "nbformat": 4,
 "nbformat_minor": 5
}
