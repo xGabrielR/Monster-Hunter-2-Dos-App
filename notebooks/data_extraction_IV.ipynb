{
 "cells": [
  {
   "cell_type": "markdown",
   "id": "56d52338",
   "metadata": {},
   "source": [
    "# 0.0. Info Table\n",
    "\n",
    "Monster Hunter 2 Dos Database App\n",
    "\n",
    "    1. Lista de Quests separadas por Ranks."
   ]
  },
  {
   "cell_type": "code",
   "execution_count": 1,
   "id": "fd288ba7",
   "metadata": {},
   "outputs": [],
   "source": [
    "import re\n",
    "import requests\n",
    "import sqlite3\n",
    "import pandas as pd\n",
    "\n",
    "from bs4 import BeautifulSoup\n",
    "from sqlalchemy import create_engine"
   ]
  },
  {
   "cell_type": "markdown",
   "id": "58359b39",
   "metadata": {
    "heading_collapsed": true
   },
   "source": [
    "# 1.0. Quest List Data"
   ]
  },
  {
   "cell_type": "markdown",
   "id": "7d56216a",
   "metadata": {
    "heading_collapsed": true,
    "hidden": true
   },
   "source": [
    "## 1.1. Jp Quest Train"
   ]
  },
  {
   "cell_type": "code",
   "execution_count": 2,
   "id": "2b047392",
   "metadata": {
    "hidden": true
   },
   "outputs": [],
   "source": [
    "soup = BeautifulSoup( open('../data/page.html').read(), 'html.parser' )\n",
    "\n",
    "quest_training = [list(filter(None, p.get_text().split('\\n'))) for p in soup.find_all( 'table', class_='cnt-tb2' )[-1].find_all('tr')]"
   ]
  },
  {
   "cell_type": "markdown",
   "id": "5f5f2694",
   "metadata": {
    "heading_collapsed": true,
    "hidden": true
   },
   "source": [
    "### 1.1.0. Jp Quest Cleaning"
   ]
  },
  {
   "cell_type": "code",
   "execution_count": 24,
   "id": "7bbcaa7d",
   "metadata": {
    "hidden": true
   },
   "outputs": [],
   "source": [
    "df_train = pd.DataFrame( quest_training )\n",
    "\n",
    "# Rename and Filter Columns\n",
    "df_train.columns = ['id', 'rank', 'name']+[p.replace(' ', '_').lower() for p in df_train.iloc[0, :].tolist()][3:]\n",
    "df_train = df_train.drop( columns=['season', 'hrp', 'special_conditions', 'contract_money'], axis=1 )\n",
    "df_train.columns = ['id', 'rank', 'name', 'reward', 'time', 'area', 'request_details']\n",
    "df_train = df_train.iloc[1:, :].reset_index( drop=True )\n",
    "\n",
    "# Individual Columns\n",
    "df_train['rank'] = df_train['rank'].str.replace('¡ù£±', '1')\n",
    "df_train['rank'] = df_train['rank'].str.replace('¡ù£²', '2')\n",
    "df_train['rank'] = df_train['rank'].str.replace('¡ù£³', '3')\n",
    "df_train['rank'] = df_train['rank'].str.replace('¡ù£´', '4')\n",
    "df_train['rank'] = df_train['rank'].str.replace('¡ù£µ', '5')\n",
    "df_train['time'] = df_train['time'].str.extract('(\\d+)')[0]\n",
    "df_train['area'] = df_train['area'].apply( lambda x: x.title() )\n",
    "df_train['area'] = df_train['area'].str.replace('Dense Forest', 'Jungle')\n",
    "\n",
    "df_train['name'] = df_train['name'].str.replace('¢ä', '')\n",
    "df_train['name'] = df_train['name'].str.replace('¢ã', '')\n",
    "df_train['name'] = [p.lower().replace('«basic hunter» ', '')\n",
    "                     .replace('<< basics of hunter >> ', '').strip().title() for p in df_train['name'].tolist()]\n",
    "\n",
    "# Generate New Rewards\n",
    "reward = [re.findall( '\\d+', p ) for p in df_train['reward'].tolist()]\n",
    "\n",
    "# full_reward, main_reward, sub_a_reward, sub_b_reward\n",
    "df_train['main_reward']  = [p[0]+'z' for p in reward]\n",
    "df_train['full_reward']  = [str(int(p[0]) + int(p[1]) + int(p[2]))+'z' for p in reward]\n",
    "df_train['sub_a_reward'] = [p[1]+'z' for p in reward]\n",
    "df_train['sub_b_reward'] = [p[2]+'z' for p in reward]\n",
    "\n",
    "df_train = df_train.drop( columns=['reward'], axis=1)\n",
    "\n",
    "# Change Dtypes\n",
    "df_train['rank'] = df_train['rank'].astype('int64')\n",
    "df_train['time'] = df_train['time'].astype('int64')\n",
    "\n",
    "# Split Request Details\n",
    "df_train['request_details'] = df_train['request_details'].str.replace('Delivering', 'Delivery')\n",
    "df_train['request_details'] = df_train['request_details'].str.replace(' Deliver ', 'Delivery ')\n",
    "df_train['request_details'] = [j[2:] if j.startswith('/') else j for j in \n",
    "                                 [p.replace('None',       '/ None')\n",
    "                                   .replace('Delivery',   '/ Delivery')\n",
    "                                   .replace('Subjugation','/ Subjugation ')\n",
    "                                   .replace('Hunting',    '/ Hunting') for p in df_train['request_details'].tolist()]]\n",
    "\n",
    "# Generate New DataFrame with Split\n",
    "df_aux = df_train['request_details'].str.split('/ ', expand=True)\n",
    "df_aux.iloc[29, 1]  = 'Delivery of 8 ice crystals'\n",
    "df_aux.iloc[29, 2]  = 'Hunt 1 Dodo Blanco'\n",
    "df_aux.iloc[23, -1] = 'Delivery of 10 sliced cactus'\n",
    "\n",
    "df_aux[0] = df_aux[0].str.replace( 'Ranposu 5 horses subdue of ', 'Hunt 5 Velociprey' )\n",
    "df_aux[0] = df_aux[0].apply( lambda x: x.strip() )\n",
    "\n",
    "for i in range( len( df_aux.columns ) ):\n",
    "    df_aux[i] = df_aux[i].apply( lambda x: x.strip().replace('None', 'No Sub') if pd.notnull(x) else x )\n",
    "    df_aux[i] = df_aux[i].fillna('No Sub') \n",
    "    \n",
    "df_aux.columns = ['main', 'sub_a', 'sub_b']\n",
    "\n",
    "df_train = pd.concat([df_train, df_aux], axis=1)\n",
    "df_train = df_train.drop( columns=['request_details'], axis=1 )\n",
    "df_train = df_train[['id', 'rank', 'name', 'time', 'area', 'main', 'main_reward', \n",
    "                     'full_reward', 'sub_a', 'sub_b', 'sub_a_reward', 'sub_b_reward']]\n",
    "\n",
    "# Script Verify\n",
    "df_train['name']  = [p.replace(' Of', '') if p.endswith('Of') else p for p in df_train['name'].tolist()]\n",
    "cols = ['name', 'main', 'sub_a', 'sub_b']\n",
    "df_train.iloc[0, 2] = 'Hunter Basics'\n",
    "df_train.loc[24, 'main']  = 'Hunt Rio Leia'\n",
    "df_train.loc[24, 'sub_a'] = 'Delivery of 1 hunting flying dragon egg'\n",
    "df_train.loc[24, 'sub_b'] = 'Delivery of 4 Kireasi'\n",
    "for i in cols:\n",
    "    df_train[i] = [p.replace('of', '') if p.endswith('of') else p for p in df_train[i].tolist()]\n",
    "    df_train[i] = df_train[i].apply( lambda x: x.replace( 'Subjugation ', 'Hunt' )\n",
    "                                                .replace('subjugation of', 'Hunt')\n",
    "                                                .replace('subjugation', 'Hunt')\n",
    "                                                .replace('dragon', '') )"
   ]
  },
  {
   "cell_type": "code",
   "execution_count": 25,
   "id": "1ef159d7",
   "metadata": {
    "hidden": true
   },
   "outputs": [
    {
     "data": {
      "text/html": [
       "<div>\n",
       "<style scoped>\n",
       "    .dataframe tbody tr th:only-of-type {\n",
       "        vertical-align: middle;\n",
       "    }\n",
       "\n",
       "    .dataframe tbody tr th {\n",
       "        vertical-align: top;\n",
       "    }\n",
       "\n",
       "    .dataframe thead th {\n",
       "        text-align: right;\n",
       "    }\n",
       "</style>\n",
       "<table border=\"1\" class=\"dataframe\">\n",
       "  <thead>\n",
       "    <tr style=\"text-align: right;\">\n",
       "      <th></th>\n",
       "      <th>id</th>\n",
       "      <th>rank</th>\n",
       "      <th>name</th>\n",
       "      <th>time</th>\n",
       "      <th>area</th>\n",
       "      <th>main</th>\n",
       "      <th>main_reward</th>\n",
       "      <th>full_reward</th>\n",
       "      <th>sub_a</th>\n",
       "      <th>sub_b</th>\n",
       "      <th>sub_a_reward</th>\n",
       "      <th>sub_b_reward</th>\n",
       "    </tr>\n",
       "  </thead>\n",
       "  <tbody>\n",
       "    <tr>\n",
       "      <th>0</th>\n",
       "      <td>0001</td>\n",
       "      <td>1</td>\n",
       "      <td>Hunter Basics</td>\n",
       "      <td>50</td>\n",
       "      <td>Jungle</td>\n",
       "      <td>Raw meat two delivery</td>\n",
       "      <td>30z</td>\n",
       "      <td>30z</td>\n",
       "      <td>No Sub</td>\n",
       "      <td>No Sub</td>\n",
       "      <td>0z</td>\n",
       "      <td>0z</td>\n",
       "    </tr>\n",
       "    <tr>\n",
       "      <th>1</th>\n",
       "      <td>0002</td>\n",
       "      <td>1</td>\n",
       "      <td>Basics Of Hunters The Secret Of Grilling Meat</td>\n",
       "      <td>50</td>\n",
       "      <td>Jungle</td>\n",
       "      <td>Browned meat one delivery</td>\n",
       "      <td>40z</td>\n",
       "      <td>40z</td>\n",
       "      <td>No Sub</td>\n",
       "      <td>No Sub</td>\n",
       "      <td>0z</td>\n",
       "      <td>0z</td>\n",
       "    </tr>\n",
       "  </tbody>\n",
       "</table>\n",
       "</div>"
      ],
      "text/plain": [
       "     id  rank                                           name  time    area  \\\n",
       "0  0001     1                                  Hunter Basics    50  Jungle   \n",
       "1  0002     1  Basics Of Hunters The Secret Of Grilling Meat    50  Jungle   \n",
       "\n",
       "                        main main_reward full_reward   sub_a   sub_b  \\\n",
       "0      Raw meat two delivery         30z         30z  No Sub  No Sub   \n",
       "1  Browned meat one delivery         40z         40z  No Sub  No Sub   \n",
       "\n",
       "  sub_a_reward sub_b_reward  \n",
       "0           0z           0z  \n",
       "1           0z           0z  "
      ]
     },
     "execution_count": 25,
     "metadata": {},
     "output_type": "execute_result"
    }
   ],
   "source": [
    "df_train.head(2)"
   ]
  },
  {
   "cell_type": "markdown",
   "id": "e7cc9bf9",
   "metadata": {
    "heading_collapsed": true
   },
   "source": [
    "# 2.0. En Quest Village"
   ]
  },
  {
   "cell_type": "markdown",
   "id": "9a613464",
   "metadata": {
    "heading_collapsed": true,
    "hidden": true
   },
   "source": [
    "## 2.1. En Data Collect"
   ]
  },
  {
   "cell_type": "code",
   "execution_count": 36,
   "id": "291705b6",
   "metadata": {
    "hidden": true
   },
   "outputs": [],
   "source": [
    "url = 'https://monsterhunter.fandom.com/wiki/MH2:_Quests'\n",
    "hdr = {'User-Agent': 'Mozilla/5.0 (Macintosh; Intel Mac OS X 10_11_5),AppleWebKit/537.36 (KHTML, like Gecko) Chrome/50.0.2661.102 Safari/537.36'}\n",
    "\n",
    "soup = BeautifulSoup( requests.get( url, hdr ).text, 'html.parser' )"
   ]
  },
  {
   "cell_type": "markdown",
   "id": "4a5faeef",
   "metadata": {
    "heading_collapsed": true,
    "hidden": true
   },
   "source": [
    "### 2.1.0. One Example Collect"
   ]
  },
  {
   "cell_type": "code",
   "execution_count": 30,
   "id": "359ac2f7",
   "metadata": {
    "hidden": true
   },
   "outputs": [
    {
     "data": {
      "text/html": [
       "<div>\n",
       "<style scoped>\n",
       "    .dataframe tbody tr th:only-of-type {\n",
       "        vertical-align: middle;\n",
       "    }\n",
       "\n",
       "    .dataframe tbody tr th {\n",
       "        vertical-align: top;\n",
       "    }\n",
       "\n",
       "    .dataframe thead th {\n",
       "        text-align: right;\n",
       "    }\n",
       "</style>\n",
       "<table border=\"1\" class=\"dataframe\">\n",
       "  <thead>\n",
       "    <tr style=\"text-align: right;\">\n",
       "      <th></th>\n",
       "      <th>0</th>\n",
       "      <th>1</th>\n",
       "      <th>2</th>\n",
       "      <th>3</th>\n",
       "      <th>4</th>\n",
       "      <th>5</th>\n",
       "      <th>6</th>\n",
       "      <th>7</th>\n",
       "    </tr>\n",
       "  </thead>\n",
       "  <tbody>\n",
       "    <tr>\n",
       "      <th>0</th>\n",
       "      <td>Familiarize with the environments of the jungle!</td>\n",
       "      <td>Time Limit: 50 min.</td>\n",
       "      <td>Deliver Special Mushroom (特産キノコ): X5\\n</td>\n",
       "      <td>Reward: 300ｚ</td>\n",
       "      <td>Deliver Royal Beetle (ロイヤルカブト): X2\\n</td>\n",
       "      <td>Deliver Raw Meat (生肉): X4\\n</td>\n",
       "      <td>Subquest A Reward: 450ｚ</td>\n",
       "      <td>Subquest B Reward 100ｚ</td>\n",
       "    </tr>\n",
       "  </tbody>\n",
       "</table>\n",
       "</div>"
      ],
      "text/plain": [
       "                                                  0                    1  \\\n",
       "0  Familiarize with the environments of the jungle!  Time Limit: 50 min.   \n",
       "\n",
       "                                        2             3  \\\n",
       "0  Deliver Special Mushroom (特産キノコ): X5\\n  Reward: 300ｚ   \n",
       "\n",
       "                                      4                            5  \\\n",
       "0  Deliver Royal Beetle (ロイヤルカブト): X2\\n  Deliver Raw Meat (生肉): X4\\n   \n",
       "\n",
       "                         6                       7  \n",
       "0  Subquest A Reward: 450ｚ  Subquest B Reward 100ｚ  "
      ]
     },
     "execution_count": 30,
     "metadata": {},
     "output_type": "execute_result"
    }
   ],
   "source": [
    "list_quests = soup.find_all('table', {'style': \"border: 3px solid #007d11; background-color:#AC9A7E; color:#371c01; width:100%;\"})\n",
    "\n",
    "# 'rank', 'name', 'time', 'area', 'main', 'main_reward', 'full_reward', 'sub_a', 'sub_b', 'sub_a_reward', 'sub_b_reward'\n",
    "q_name  = list_quests[0].find('span', class_=\"mw-headline\").get_text()\n",
    "q_time  = list_quests[0].find_all('p')[2].get_text().split('\\n')[0]\n",
    "q_main  = list_quests[0].find_all('p')[1].get_text()\n",
    "q_m_rw  = list_quests[0].find_all('p')[2].get_text().split('\\n')[1]\n",
    "q_sub_a = list_quests[0].find_all('td', attrs={'colspan': '2'} )[1].get_text()\n",
    "q_sub_b = list_quests[0].find_all('td', attrs={'colspan': '2'} )[2].get_text()\n",
    "sub_a_rw = list_quests[0].find_all('p')[2].get_text().split('\\n')[2]\n",
    "sub_b_rw = list_quests[0].find_all('p')[2].get_text().split('\\n')[3]\n",
    "\n",
    "pd.DataFrame( [q_name, q_time, q_main, q_m_rw, q_sub_a, q_sub_b, sub_a_rw, sub_b_rw] ).T"
   ]
  },
  {
   "cell_type": "markdown",
   "id": "277a8d5e",
   "metadata": {
    "heading_collapsed": true,
    "hidden": true
   },
   "source": [
    "### 2.1.1. Multiple Index on One Color "
   ]
  },
  {
   "cell_type": "code",
   "execution_count": 35,
   "id": "d7c8aa61",
   "metadata": {
    "hidden": true
   },
   "outputs": [],
   "source": [
    "df = pd.DataFrame( columns=['name', 'time', 'main', 'main_reward', 'sub_a', 'sub_b', 'sub_a_reward', 'sub_b_reward'] )\n",
    "\n",
    "for i in range( len( list_quests ) ):\n",
    "    list_quests = soup.find_all('table', {'style': \"border: 3px solid #007d11; background-color:#AC9A7E; color:#371c01; width:100%;\"})\n",
    "\n",
    "    q_name  = list_quests[i].find('span', class_=\"mw-headline\").get_text()\n",
    "    q_time  = list_quests[i].find_all('p')[2].get_text().split('\\n')[0]\n",
    "    q_main  = list_quests[i].find_all('p')[1].get_text()\n",
    "    q_m_rw  = list_quests[i].find_all('p')[2].get_text().split('\\n')[1]\n",
    "    q_sub_a = list_quests[i].find_all('td', attrs={'colspan': '2'} )[1].get_text()\n",
    "    q_sub_b = list_quests[i].find_all('td', attrs={'colspan': '2'} )[2].get_text()\n",
    "    sub_a_rw = list_quests[i].find_all('p')[2].get_text().split('\\n')[2]\n",
    "    sub_b_rw = list_quests[i].find_all('p')[2].get_text().split('\\n')[3]\n",
    "    \n",
    "    df_aux = pd.DataFrame( [q_name, q_time, q_main, q_m_rw, q_sub_a, q_sub_b, sub_a_rw, sub_b_rw] ).T\n",
    "    df_aux.columns = ['name', 'time', 'main', 'main_reward', 'sub_a', 'sub_b', 'sub_a_reward', 'sub_b_reward']\n",
    "    \n",
    "    df = pd.concat( [df, df_aux], axis=0 )\n",
    "    "
   ]
  },
  {
   "cell_type": "markdown",
   "id": "15ed58dd",
   "metadata": {
    "heading_collapsed": true,
    "hidden": true
   },
   "source": [
    "### 2.1.2. Multiple Colors "
   ]
  },
  {
   "cell_type": "code",
   "execution_count": 41,
   "id": "a4d84f7e",
   "metadata": {
    "hidden": true
   },
   "outputs": [],
   "source": [
    "color_list = ['#007d11;', '#a57564;', '#53305C;', '#8C8F83;', '#762622;', '#93C72C;', '#8a7518;']\n",
    "df = pd.DataFrame( columns=['name', 'time', 'area', 'season', 'main', 'main_reward', 'sub_a', 'sub_b', 'sub_a_reward', 'sub_b_reward'] )\n",
    "\n",
    "for p in color_list:\n",
    "    list_quests = soup.find_all('table', {'style': \"border: 3px solid \" + p + \" background-color:#AC9A7E; color:#371c01; width:100%;\"})\n",
    "    list_area   = soup.find_all('table', {'style': \"border: 3px solid \" + p[1:] + \" background-color:#EBEBEB; color:#371c01; width:100%;\"})\n",
    "    \n",
    "    for i in range( len( list_quests ) ):\n",
    "        # 'rank', 'name', 'time', 'area', 'season', 'main', 'main_reward', 'full_reward', 'sub_a', 'sub_b', 'sub_a_reward', 'sub_b_reward'\n",
    "        q_name  = list_quests[i].find('span', class_=\"mw-headline\").get_text()\n",
    "        q_time  = list_quests[i].find_all('p')[2].get_text().split('\\n')[0]\n",
    "        q_area  = list_area[i].get_text().replace('\\n', '')\n",
    "        q_seasn = list_quests[i].find_all('a', class_='image')[0]['title']\n",
    "        q_main  = list_quests[i].find_all('p')[1].get_text()\n",
    "        q_m_rw  = list_quests[i].find_all('p')[2].get_text().split('\\n')[1] \n",
    "        q_sub_a = list_quests[i].find_all('td', attrs={'colspan': '2'} )[1].get_text()\n",
    "        q_sub_b = list_quests[i].find_all('td', attrs={'colspan': '2'} )[2].get_text()\n",
    "        sub_a_rw = list_quests[i].find_all('p')[2].get_text().split('\\n')[2]\n",
    "        sub_b_rw = list_quests[i].find_all('p')[2].get_text().split('\\n')[3]\n",
    "\n",
    "        df_aux = pd.DataFrame( [q_name, q_time, q_area, q_seasn, q_main, q_m_rw, q_sub_a, q_sub_b, sub_a_rw, sub_b_rw] ).T\n",
    "        df_aux.columns = ['name', 'time', 'area', 'season', 'main', 'main_reward', 'sub_a', 'sub_b', 'sub_a_reward', 'sub_b_reward']\n",
    "\n",
    "        df = pd.concat( [df, df_aux], axis=0 )"
   ]
  },
  {
   "cell_type": "code",
   "execution_count": 42,
   "id": "b5f01a7b",
   "metadata": {
    "hidden": true
   },
   "outputs": [
    {
     "data": {
      "text/html": [
       "<div>\n",
       "<style scoped>\n",
       "    .dataframe tbody tr th:only-of-type {\n",
       "        vertical-align: middle;\n",
       "    }\n",
       "\n",
       "    .dataframe tbody tr th {\n",
       "        vertical-align: top;\n",
       "    }\n",
       "\n",
       "    .dataframe thead th {\n",
       "        text-align: right;\n",
       "    }\n",
       "</style>\n",
       "<table border=\"1\" class=\"dataframe\">\n",
       "  <thead>\n",
       "    <tr style=\"text-align: right;\">\n",
       "      <th></th>\n",
       "      <th>name</th>\n",
       "      <th>time</th>\n",
       "      <th>area</th>\n",
       "      <th>season</th>\n",
       "      <th>main</th>\n",
       "      <th>main_reward</th>\n",
       "      <th>sub_a</th>\n",
       "      <th>sub_b</th>\n",
       "      <th>sub_a_reward</th>\n",
       "      <th>sub_b_reward</th>\n",
       "    </tr>\n",
       "  </thead>\n",
       "  <tbody>\n",
       "    <tr>\n",
       "      <th>0</th>\n",
       "      <td>The leaping hunter of the Desert</td>\n",
       "      <td>Time Limit: 50 min.</td>\n",
       "      <td>≪Desert≫</td>\n",
       "      <td>Cold Season</td>\n",
       "      <td>Hunt the Gendrome\\n</td>\n",
       "      <td>Reward: 800ｚ</td>\n",
       "      <td>Hunt 6 Genprey\\n</td>\n",
       "      <td>Deliver Cactus (百花サボテン): X1\\n</td>\n",
       "      <td>Subquest A Reward: 400ｚ</td>\n",
       "      <td>Subquest B Reward 400ｚ</td>\n",
       "    </tr>\n",
       "    <tr>\n",
       "      <th>0</th>\n",
       "      <td>Sickle lurking in the swamp</td>\n",
       "      <td>Time Limit: 50 min.</td>\n",
       "      <td>≪Swamp≫</td>\n",
       "      <td>Warm Season</td>\n",
       "      <td>Hunt the Shogun Ceanataur\\n</td>\n",
       "      <td>Reward: 2800ｚ</td>\n",
       "      <td>Break a Shogun's Claw\\n</td>\n",
       "      <td>Deliver Gold Fish (黄金魚): X5\\n</td>\n",
       "      <td>Subquest A Reward: 1000ｚ</td>\n",
       "      <td>Subquest B Reward 1100ｚ</td>\n",
       "    </tr>\n",
       "    <tr>\n",
       "      <th>0</th>\n",
       "      <td>Hunt the boar boss!</td>\n",
       "      <td>Time Limit: 50 min.</td>\n",
       "      <td>≪Jungle≫</td>\n",
       "      <td>Cold Season</td>\n",
       "      <td>Hunt the Bulldrome\\n</td>\n",
       "      <td>Reward: 700ｚ</td>\n",
       "      <td>Hunt 8 Velociprey\\n</td>\n",
       "      <td>Deliver Gold Fish (黄金魚): X1\\n</td>\n",
       "      <td>Subquest A Reward: 300ｚ</td>\n",
       "      <td>Subquest B Reward 250ｚ</td>\n",
       "    </tr>\n",
       "  </tbody>\n",
       "</table>\n",
       "</div>"
      ],
      "text/plain": [
       "                               name                 time      area  \\\n",
       "0  The leaping hunter of the Desert  Time Limit: 50 min.  ≪Desert≫   \n",
       "0       Sickle lurking in the swamp  Time Limit: 50 min.   ≪Swamp≫   \n",
       "0               Hunt the boar boss!  Time Limit: 50 min.  ≪Jungle≫   \n",
       "\n",
       "        season                         main    main_reward  \\\n",
       "0  Cold Season          Hunt the Gendrome\\n   Reward: 800ｚ   \n",
       "0  Warm Season  Hunt the Shogun Ceanataur\\n  Reward: 2800ｚ   \n",
       "0  Cold Season         Hunt the Bulldrome\\n   Reward: 700ｚ   \n",
       "\n",
       "                     sub_a                          sub_b  \\\n",
       "0         Hunt 6 Genprey\\n  Deliver Cactus (百花サボテン): X1\\n   \n",
       "0  Break a Shogun's Claw\\n  Deliver Gold Fish (黄金魚): X5\\n   \n",
       "0      Hunt 8 Velociprey\\n  Deliver Gold Fish (黄金魚): X1\\n   \n",
       "\n",
       "               sub_a_reward             sub_b_reward  \n",
       "0   Subquest A Reward: 400ｚ   Subquest B Reward 400ｚ  \n",
       "0  Subquest A Reward: 1000ｚ  Subquest B Reward 1100ｚ  \n",
       "0   Subquest A Reward: 300ｚ   Subquest B Reward 250ｚ  "
      ]
     },
     "execution_count": 42,
     "metadata": {},
     "output_type": "execute_result"
    }
   ],
   "source": [
    "df.sample(3)"
   ]
  },
  {
   "cell_type": "markdown",
   "id": "d4ed7629",
   "metadata": {
    "heading_collapsed": true,
    "hidden": true
   },
   "source": [
    "## 2.1. En Data Cleaning"
   ]
  },
  {
   "cell_type": "code",
   "execution_count": 68,
   "id": "7d57d195",
   "metadata": {
    "hidden": true
   },
   "outputs": [],
   "source": [
    "df_village = df.copy()\n",
    "df_village = df_village.reset_index( drop=True )\n",
    "\n",
    "# Individual Columns\n",
    "df_village['time']   = df_village['time'].str.extract('(\\d+)')[0].astype('int64')\n",
    "df_village['area']   = df_village['area'].str.extract('([a-zA-Z ]+)')[0]\n",
    "df_village['season'] = df_village['season'].str.replace(' Season', '')\n",
    "df_village['main']   = df_village['main'].apply( lambda x: x.replace('\\n', '').replace('(特産キノコ)', ''))\n",
    "df_village['main']   = df_village['main'].apply( lambda x: x.replace('\\n', '').replace('(特産キノコ)', ''))\n",
    "df_village['sub_a']  = df_village['sub_a'].apply( lambda x: x.replace('\\n', '').replace('N/A', 'No Sub'))\n",
    "df_village['sub_b']  = df_village['sub_b'].apply( lambda x: x.replace('\\n', '').replace('N/A', 'No Sub'))\n",
    "df_village['sub_b']  = [p.replace('', 'No Sub') if len(p)==0 else p for p in df_village['sub_b'].tolist()]\n",
    "\n",
    "# Generate New Reward\n",
    "main_reward  = df_village['main_reward'].str.extract('(\\d+)')[0].astype('int64').tolist()\n",
    "sub_a_reward = df_village['sub_a_reward'].str.extract('(\\d+)')[0].astype('int64').tolist()\n",
    "sub_b_reward = df_village['sub_b_reward'].str.extract('(\\d+)')[0].astype('int64').tolist()\n",
    "\n",
    "df_village['main_reward']  = [str(p)+'z' for p in main_reward]\n",
    "df_village['sub_a_reward'] = [str(p)+'z' for p in sub_a_reward]\n",
    "df_village['sub_b_reward'] = [str(p)+'z' for p in sub_b_reward]\n",
    "\n",
    "df_village['full_reward']  = [str(+main_reward[p]+sub_a_reward[p]+sub_b_reward[p])+'z'\n",
    "                                  for p in range(len(df_village))]\n",
    "\n",
    "# Generate Rank Columns with individual index\n",
    "df_village['rank'] = 1\n",
    "df_village.iloc[10:16, -1] = 2\n",
    "df_village.iloc[16, -1] = 3\n",
    "df_village.iloc[17, -1] = 4\n",
    "df_village.iloc[20:23, -1] = 2\n",
    "df_village.iloc[23:29, -1] = 3\n",
    "df_village.iloc[36:40, -1] = 2 \n",
    "df_village.iloc[40:43, -1] = 3\n",
    "df_village.iloc[43:46, -1] = 4\n",
    "df_village.iloc[47:49, -1] = 2\n",
    "df_village.iloc[49:51, -1] = 3\n",
    "df_village.iloc[51:53, -1] = 4\n",
    "df_village.iloc[57:60, -1] = 3\n",
    "df_village.iloc[60:62, -1] = 4\n",
    "df_village.iloc[62:65, -1] = 2\n",
    "df_village.iloc[65, -1]  = 4\n",
    "df_village.iloc[67:, -1] = 4\n",
    "df_village.iloc[66, -1]  = 3\n",
    "\n",
    "# Select Columns\n",
    "df_village = df_village[['rank', 'name', 'time', 'season', 'area', 'main', 'main_reward', 'full_reward','sub_a',\n",
    "                         'sub_b', 'sub_a_reward', 'sub_b_reward']]"
   ]
  },
  {
   "cell_type": "markdown",
   "id": "e1aee02c",
   "metadata": {
    "heading_collapsed": true
   },
   "source": [
    "# 3.0. List Quest Storange"
   ]
  },
  {
   "cell_type": "code",
   "execution_count": 72,
   "id": "82579b9a",
   "metadata": {
    "hidden": true
   },
   "outputs": [],
   "source": [
    "df_train.to_csv('../data/train_quests.csv')\n",
    "df_village.to_csv('../data/village_quests.csv')"
   ]
  },
  {
   "cell_type": "code",
   "execution_count": 77,
   "id": "f5abdeb2",
   "metadata": {
    "hidden": true
   },
   "outputs": [],
   "source": [
    "con = sqlite3.connect('../sql_databases/quests.sqlite')\n",
    "c   = con.cursor()\n",
    "\n",
    "query_create_table = '''\n",
    "    CREATE TABLE village_quests(\n",
    "        rank            INTEGER,\n",
    "        name            TEXT,\n",
    "        time            INTEGER,\n",
    "        season          TEXT,\n",
    "        area            TEXT,\n",
    "        main            TEXT,\n",
    "        main_reward     TEXT,\n",
    "        full_reward     TEXT,\n",
    "        sub_a           TEXT,\n",
    "        sub_b           TEXT,\n",
    "        sub_a_reward    TEXT,\n",
    "        sub_b_reward    TEXT );'''\n",
    "\n",
    "c.execute(query_create_table)\n",
    "con.commit()\n",
    "\n",
    "db  = create_engine( 'sqlite:///../sql_databases/quests.sqlite' )\n",
    "con = db.connect()\n",
    "\n",
    "df_train.to_sql( 'train_quests', con=con, if_exists='append', index=False )\n",
    "df_village.to_sql( 'village_quests', con=con, if_exists='append', index=False )"
   ]
  }
 ],
 "metadata": {
  "hide_input": false,
  "kernelspec": {
   "display_name": "Python 3 (ipykernel)",
   "language": "python",
   "name": "python3"
  },
  "language_info": {
   "codemirror_mode": {
    "name": "ipython",
    "version": 3
   },
   "file_extension": ".py",
   "mimetype": "text/x-python",
   "name": "python",
   "nbconvert_exporter": "python",
   "pygments_lexer": "ipython3",
   "version": "3.9.5"
  },
  "varInspector": {
   "cols": {
    "lenName": 16,
    "lenType": 16,
    "lenVar": 40
   },
   "kernels_config": {
    "python": {
     "delete_cmd_postfix": "",
     "delete_cmd_prefix": "del ",
     "library": "var_list.py",
     "varRefreshCmd": "print(var_dic_list())"
    },
    "r": {
     "delete_cmd_postfix": ") ",
     "delete_cmd_prefix": "rm(",
     "library": "var_list.r",
     "varRefreshCmd": "cat(var_dic_list()) "
    }
   },
   "types_to_exclude": [
    "module",
    "function",
    "builtin_function_or_method",
    "instance",
    "_Feature"
   ],
   "window_display": false
  }
 },
 "nbformat": 4,
 "nbformat_minor": 5
}
