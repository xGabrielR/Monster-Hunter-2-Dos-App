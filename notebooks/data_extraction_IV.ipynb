{
 "cells": [
  {
   "cell_type": "markdown",
   "id": "56d52338",
   "metadata": {},
   "source": [
    "# 0.0. Info Table\n",
    "\n",
    "Monster Hunter 2 Dos Database App\n",
    "\n",
    "    1. Lista de Quests separadas por Ranks."
   ]
  },
  {
   "cell_type": "code",
   "execution_count": 8,
   "id": "fd288ba7",
   "metadata": {},
   "outputs": [],
   "source": [
    "import re\n",
    "import requests\n",
    "import sqlite3\n",
    "import pandas as pd\n",
    "\n",
    "from bs4 import BeautifulSoup\n",
    "from sqlalchemy import create_engine"
   ]
  },
  {
   "cell_type": "markdown",
   "id": "58359b39",
   "metadata": {
    "heading_collapsed": true
   },
   "source": [
    "# 1.0. Quest List Data"
   ]
  },
  {
   "cell_type": "markdown",
   "id": "7d56216a",
   "metadata": {
    "heading_collapsed": true,
    "hidden": true
   },
   "source": [
    "## 1.1. Jp Quest Train"
   ]
  },
  {
   "cell_type": "code",
   "execution_count": 241,
   "id": "2b047392",
   "metadata": {
    "hidden": true
   },
   "outputs": [],
   "source": [
    "soup = BeautifulSoup( open('../data/page.html').read(), 'html.parser' )\n",
    "\n",
    "quest_training = [list(filter(None, p.get_text().split('\\n'))) for p in soup.find_all( 'table', class_='cnt-tb2' )[-1].find_all('tr')]"
   ]
  },
  {
   "cell_type": "markdown",
   "id": "5f5f2694",
   "metadata": {
    "heading_collapsed": true,
    "hidden": true
   },
   "source": [
    "### 1.1.0. Jp Quest Cleaning"
   ]
  },
  {
   "cell_type": "code",
   "execution_count": 242,
   "id": "7bbcaa7d",
   "metadata": {
    "hidden": true
   },
   "outputs": [],
   "source": [
    "df_train = pd.DataFrame( quest_training )\n",
    "\n",
    "# Rename and Filter Columns\n",
    "df_train.columns = ['id', 'rank', 'name']+[p.replace(' ', '_').lower() for p in df_train.iloc[0, :].tolist()][3:]\n",
    "df_train = df_train.drop( columns=['season', 'hrp', 'special_conditions', 'contract_money'], axis=1 )\n",
    "df_train.columns = ['id', 'rank', 'name', 'reward', 'time', 'area', 'request_details']\n",
    "df_train = df_train.iloc[1:, :].reset_index( drop=True )\n",
    "\n",
    "# Individual Columns\n",
    "df_train['rank'] = df_train['rank'].str.replace('¡ù£±', '1')\n",
    "df_train['rank'] = df_train['rank'].str.replace('¡ù£²', '2')\n",
    "df_train['rank'] = df_train['rank'].str.replace('¡ù£³', '3')\n",
    "df_train['rank'] = df_train['rank'].str.replace('¡ù£´', '4')\n",
    "df_train['rank'] = df_train['rank'].str.replace('¡ù£µ', '5')\n",
    "df_train['time'] = df_train['time'].str.extract('(\\d+)')[0]\n",
    "df_train['area'] = df_train['area'].apply( lambda x: x.title() )\n",
    "df_train['area'] = df_train['area'].str.replace('Dense Forest', 'Jungle')\n",
    "\n",
    "df_train['name'] = df_train['name'].str.replace('¢ä', '')\n",
    "df_train['name'] = df_train['name'].str.replace('¢ã', '')\n",
    "df_train['name'] = [p.lower().replace('«basic hunter» ', '')\n",
    "                     .replace('<< basics of hunter >> ', '').strip().title() for p in df_train['name'].tolist()]\n",
    "\n",
    "# Generate New Rewards\n",
    "reward = [re.findall( '\\d+', p ) for p in df_train['reward'].tolist()]\n",
    "\n",
    "# full_reward, main_reward, sub_a_reward, sub_b_reward\n",
    "df_train['main_reward']  = [p[0]+'z' for p in reward]\n",
    "df_train['full_reward']  = [str(int(p[0]) + int(p[1]) + int(p[2]))+'z' for p in reward]\n",
    "df_train['sub_a_reward'] = [p[1]+'z' for p in reward]\n",
    "df_train['sub_b_reward'] = [p[2]+'z' for p in reward]\n",
    "\n",
    "df_train = df_train.drop( columns=['reward'], axis=1)\n",
    "\n",
    "# Change Dtypes\n",
    "df_train['rank'] = df_train['rank'].astype('int64')\n",
    "df_train['time'] = df_train['time'].astype('int64')\n",
    "\n",
    "# Split Request Details\n",
    "df_train['request_details'] = df_train['request_details'].str.replace('Delivering', 'Delivery')\n",
    "df_train['request_details'] = df_train['request_details'].str.replace(' Deliver ', 'Delivery ')\n",
    "df_train['request_details'] = [j[2:] if j.startswith('/') else j for j in \n",
    "                                 [p.replace('None',       '/ None')\n",
    "                                   .replace('Delivery',   '/ Delivery')\n",
    "                                   .replace('Subjugation','/ Subjugation ')\n",
    "                                   .replace('Hunting',    '/ Hunting') for p in df_train['request_details'].tolist()]]\n",
    "\n",
    "df_aux = df_train['request_details'].str.split('/ ', expand=True)\n",
    "\n",
    "df_aux.iloc[29, 1]  = 'Delivery of 8 ice crystals'\n",
    "df_aux.iloc[29, 2]  = 'Hunt 1 Dodo Blanco'\n",
    "df_aux.iloc[23, -1] = 'Delivery of 10 sliced cactus'\n",
    "\n",
    "df_aux[0] = df_aux[0].str.replace( 'Ranposu 5 horses subdue of ', 'Hunt 5 Velociprey' )\n",
    "df_aux[0] = df_aux[0].apply( lambda x: x.strip() )\n",
    "\n",
    "for i in range( len( df_aux.columns ) ):\n",
    "    df_aux[i] = df_aux[i].apply( lambda x: x.strip().replace('None', 'No Sub') if pd.notnull(x) else x )\n",
    "    df_aux[i] = df_aux[i].fillna('No Sub') \n",
    "    \n",
    "df_aux.columns = ['main', 'sub_a', 'sub_b']\n",
    "\n",
    "df_train = pd.concat([df_train, df_aux], axis=1)\n",
    "df_train = df_train.drop( columns=['request_details'], axis=1 )\n",
    "df_train = df_train[['id', 'rank', 'name', 'time', 'area', 'main', 'main_reward', \n",
    "                     'full_reward', 'sub_a', 'sub_b', 'sub_a_reward', 'sub_b_reward']]\n",
    "\n",
    "# Script Verify\n",
    "df_train['name']  = [p.replace(' Of', '') if p.endswith('Of') else p for p in df_train['name'].tolist()]\n",
    "cols = ['name', 'main', 'sub_a', 'sub_b']\n",
    "df_train.iloc[0, 2] = 'Hunter Basics'\n",
    "df_train.loc[24, 'main']  = 'Hunt Rio Leia'\n",
    "df_train.loc[24, 'sub_a'] = 'Delivery of 1 hunting flying dragon egg'\n",
    "df_train.loc[24, 'sub_b'] = 'Delivery of 4 Kireasi'\n",
    "for i in cols:\n",
    "    df_train[i] = [p.replace('of', '') if p.endswith('of') else p for p in df_train[i].tolist()]\n",
    "    df_train[i] = df_train[i].apply( lambda x: x.replace( 'Subjugation ', 'Hunt' )\n",
    "                                                .replace('subjugation of', 'Hunt')\n",
    "                                                .replace('subjugation', 'Hunt')\n",
    "                                                .replace('dragon', '') )"
   ]
  },
  {
   "cell_type": "markdown",
   "id": "e7cc9bf9",
   "metadata": {
    "heading_collapsed": true
   },
   "source": [
    "# 2.0. En Quest Village"
   ]
  },
  {
   "cell_type": "markdown",
   "id": "9a613464",
   "metadata": {
    "heading_collapsed": true,
    "hidden": true
   },
   "source": [
    "## 2.1. En Data Collect"
   ]
  },
  {
   "cell_type": "code",
   "execution_count": 9,
   "id": "291705b6",
   "metadata": {
    "hidden": true
   },
   "outputs": [],
   "source": [
    "url = 'https://monsterhunter.fandom.com/wiki/MH2:_Quests'\n",
    "hdr = {'User-Agent': 'Mozilla/5.0 (Macintosh; Intel Mac OS X 10_11_5),AppleWebKit/537.36 (KHTML, like Gecko) Chrome/50.0.2661.102 Safari/537.36'}\n",
    "\n",
    "soup = BeautifulSoup( requests.get( url, hdr ).text, 'html.parser' )"
   ]
  },
  {
   "cell_type": "markdown",
   "id": "4a5faeef",
   "metadata": {
    "hidden": true
   },
   "source": [
    "### 2.1.0. One Example Collect"
   ]
  },
  {
   "cell_type": "code",
   "execution_count": 90,
   "id": "359ac2f7",
   "metadata": {
    "hidden": true
   },
   "outputs": [],
   "source": [
    "list_quests = soup.find_all('table', {'style': \"border: 3px solid #007d11; background-color:#AC9A7E; color:#371c01; width:100%;\"})\n",
    "\n",
    "# 'rank', 'name', 'time', 'area', 'main', 'main_reward', 'full_reward', 'sub_a', 'sub_b', 'sub_a_reward', 'sub_b_reward'\n",
    "q_name  = list_quests[0].find('span', class_=\"mw-headline\").get_text()\n",
    "q_time  = list_quests[0].find_all('p')[2].get_text().split('\\n')[0]\n",
    "q_main  = list_quests[0].find_all('p')[1].get_text()\n",
    "q_m_rw  = list_quests[0].find_all('p')[2].get_text().split('\\n')[1]\n",
    "q_sub_a = list_quests[0].find_all('td', attrs={'colspan': '2'} )[1].get_text()\n",
    "q_sub_b = list_quests[0].find_all('td', attrs={'colspan': '2'} )[1].get_text()\n",
    "sub_a_rw = list_quests[0].find_all('p')[2].get_text().split('\\n')[2]\n",
    "sub_b_rw = list_quests[0].find_all('p')[2].get_text().split('\\n')[3]"
   ]
  },
  {
   "cell_type": "markdown",
   "id": "277a8d5e",
   "metadata": {
    "hidden": true
   },
   "source": [
    "### 2.1.1. Multiple Index on One Color "
   ]
  },
  {
   "cell_type": "code",
   "execution_count": 97,
   "id": "d7c8aa61",
   "metadata": {
    "hidden": true
   },
   "outputs": [],
   "source": [
    "df = pd.DataFrame( columns=['name', 'time', 'main', 'main_reward', 'sub_a', 'sub_b', 'sub_a_reward', 'sub_b_reward'] )\n",
    "\n",
    "for i in range( len( list_quests ) ):\n",
    "    list_quests = soup.find_all('table', {'style': \"border: 3px solid #007d11; background-color:#AC9A7E; color:#371c01; width:100%;\"})\n",
    "\n",
    "    q_name  = list_quests[i].find('span', class_=\"mw-headline\").get_text()\n",
    "    q_time  = list_quests[i].find_all('p')[2].get_text().split('\\n')[0]\n",
    "    q_main  = list_quests[i].find_all('p')[1].get_text()\n",
    "    q_m_rw  = list_quests[i].find_all('p')[2].get_text().split('\\n')[1]\n",
    "    q_sub_a = list_quests[i].find_all('td', attrs={'colspan': '2'} )[1].get_text()\n",
    "    q_sub_b = list_quests[i].find_all('td', attrs={'colspan': '2'} )[1].get_text()\n",
    "    sub_a_rw = list_quests[i].find_all('p')[2].get_text().split('\\n')[2]\n",
    "    sub_b_rw = list_quests[i].find_all('p')[2].get_text().split('\\n')[3]\n",
    "    \n",
    "    df_aux = pd.DataFrame( [q_name, q_time, q_main, q_m_rw, q_sub_a, q_sub_b, sub_a_rw, sub_b_rw] ).T\n",
    "    df_aux.columns = ['name', 'time', 'main', 'main_reward', 'sub_a', 'sub_b', 'sub_a_reward', 'sub_b_reward']\n",
    "    \n",
    "    df = pd.concat( [df, df_aux], axis=0 )\n",
    "    "
   ]
  },
  {
   "cell_type": "markdown",
   "id": "15ed58dd",
   "metadata": {
    "hidden": true
   },
   "source": [
    "### 2.1.2. Multiple Colors "
   ]
  },
  {
   "cell_type": "code",
   "execution_count": 232,
   "id": "a4d84f7e",
   "metadata": {
    "hidden": true
   },
   "outputs": [],
   "source": [
    "color_list = ['#007d11;', '#a57564;', '#53305C;', '#8C8F83;', '#762622;', '#93C72C;', '#8a7518;']\n",
    "df = pd.DataFrame( columns=['name', 'time', 'area', 'season', 'main', 'main_reward', 'sub_a', 'sub_b', 'sub_a_reward', 'sub_b_reward'] )\n",
    "\n",
    "for p in color_list:\n",
    "    list_quests = soup.find_all('table', {'style': \"border: 3px solid \" + p + \" background-color:#AC9A7E; color:#371c01; width:100%;\"})\n",
    "    list_area   = soup.find_all('table', {'style': \"border: 3px solid \" + p[1:] + \" background-color:#EBEBEB; color:#371c01; width:100%;\"})\n",
    "    \n",
    "    for i in range( len( list_quests ) ):\n",
    "        # 'rank', 'name', 'time', 'area', 'season', 'main', 'main_reward', 'full_reward', 'sub_a', 'sub_b', 'sub_a_reward', 'sub_b_reward'\n",
    "        #q_rank = \n",
    "        q_name  = list_quests[i].find('span', class_=\"mw-headline\").get_text()\n",
    "        q_time  = list_quests[i].find_all('p')[2].get_text().split('\\n')[0]\n",
    "        q_area  = list_area[i].get_text().replace('\\n', '')\n",
    "        q_seasn = list_quests[i].find_all('a', class_='image')[0]['title']\n",
    "        q_main  = list_quests[i].find_all('p')[1].get_text()\n",
    "        q_m_rw  = list_quests[i].find_all('p')[2].get_text().split('\\n')[1]\n",
    "        #q_f_rw  = \n",
    "        q_sub_a = list_quests[i].find_all('td', attrs={'colspan': '2'} )[1].get_text()\n",
    "        q_sub_b = list_quests[i].find_all('td', attrs={'colspan': '2'} )[1].get_text()\n",
    "        sub_a_rw = list_quests[i].find_all('p')[2].get_text().split('\\n')[2]\n",
    "        sub_b_rw = list_quests[i].find_all('p')[2].get_text().split('\\n')[3]\n",
    "\n",
    "        df_aux = pd.DataFrame( [q_name, q_time, q_area, q_seasn, q_main, q_m_rw, q_sub_a, q_sub_b, sub_a_rw, sub_b_rw] ).T\n",
    "        df_aux.columns = ['name', 'time', 'area', 'season', 'main', 'main_reward', 'sub_a', 'sub_b', 'sub_a_reward', 'sub_b_reward']\n",
    "\n",
    "        df = pd.concat( [df, df_aux], axis=0 )"
   ]
  },
  {
   "cell_type": "markdown",
   "id": "d4ed7629",
   "metadata": {
    "heading_collapsed": true,
    "hidden": true
   },
   "source": [
    "## 2.1. En Data Cleaning"
   ]
  },
  {
   "cell_type": "code",
   "execution_count": 235,
   "id": "7d57d195",
   "metadata": {
    "hidden": true
   },
   "outputs": [],
   "source": [
    "df_village = df.copy()\n",
    "df_village = df_village.reset_index( drop=True )\n",
    "\n",
    "# Individual Columns\n",
    "df_village['time']   = df_village['time'].str.extract('(\\d+)')[0].astype('int64')\n",
    "df_village['area']   = df_village['area'].str.extract('([a-zA-Z ]+)')[0]\n",
    "df_village['season'] = df_village['season'].str.replace(' Season', '')\n",
    "df_village['main']   = df_village['main'].apply( lambda x: x.replace('\\n', '').replace('(特産キノコ)', ''))\n",
    "df_village['main']   = df_village['main'].apply( lambda x: x.replace('\\n', '').replace('(特産キノコ)', ''))\n",
    "df_village['sub_a']  = df_village['sub_a'].apply( lambda x: x.replace('\\n', '').replace('N/A', 'No Sub'))\n",
    "df_village['sub_b']  = df_village['sub_b'].apply( lambda x: x.replace('\\n', '').replace('N/A', 'No Sub'))\n",
    "\n",
    "# Generate New Reward\n",
    "df_village['full_reward'] = [str(+df_village['main_reward'].str.extract('(\\d+)')[0].astype('int64').tolist()[p]\n",
    "                                 +df_village['sub_a_reward'].str.extract('(\\d+)')[0].astype('int64').tolist()[p]\n",
    "                                 +df_village['sub_b_reward'].str.extract('(\\d+)')[0].astype('int64').tolist()[p])+'z'\n",
    "                                 for p in range(len(df_village))]\n",
    "\n",
    "df_village['main_reward']  = [p+'z' for p in df_village['main_reward'].str.extract('(\\d+)')[0].tolist()]\n",
    "df_village['sub_a_reward'] = [p+'z' for p in df_village['sub_a_reward'].str.extract('(\\d+)')[0].tolist()]\n",
    "df_village['sub_b_reward'] = [p+'z' for p in df_village['sub_b_reward'].str.extract('(\\d+)')[0].tolist()]\n",
    "\n",
    "# Generate Rank Columns with individual index\n",
    "df_village['rank'] = 1\n",
    "df_village.iloc[10:16, -1] = 2\n",
    "df_village.iloc[16, -1] = 3\n",
    "df_village.iloc[17, -1] = 4\n",
    "df_village.iloc[20:23, -1] = 2\n",
    "df_village.iloc[23:29, -1] = 3\n",
    "df_village.iloc[36:40, -1] = 2 \n",
    "df_village.iloc[40:43, -1] = 3\n",
    "df_village.iloc[43:46, -1] = 4\n",
    "df_village.iloc[47:49, -1] = 2\n",
    "df_village.iloc[49:51, -1] = 3\n",
    "df_village.iloc[51:53, -1] = 4\n",
    "df_village.iloc[57:60, -1] = 3\n",
    "df_village.iloc[60:62, -1] = 4\n",
    "df_village.iloc[62:65, -1] = 2\n",
    "df_village.iloc[65, -1]  = 4\n",
    "df_village.iloc[67:, -1] = 4\n",
    "df_village.iloc[66, -1]  = 3\n",
    "\n",
    "# Select Columns\n",
    "df_village = df_village[['rank', 'name', 'time', 'season', 'area', 'main', 'main_reward', 'full_reward','sub_a',\n",
    "                         'sub_b', 'sub_a_reward', 'sub_b_reward']]"
   ]
  },
  {
   "cell_type": "markdown",
   "id": "e1753767",
   "metadata": {
    "heading_collapsed": true
   },
   "source": [
    "# 3.0. Quest List Storange"
   ]
  },
  {
   "cell_type": "code",
   "execution_count": 254,
   "id": "cbe8a6eb",
   "metadata": {
    "hidden": true
   },
   "outputs": [],
   "source": [
    "con = sqlite3.connect('../sql_databases/quests.sqlite')\n",
    "c   = con.cursor()\n",
    "\n",
    "query_create_table = '''\n",
    "    CREATE TABLE train_quests (\n",
    "        id              TEXT,\n",
    "        rank            INTEGER,\n",
    "        name            TEXT,\n",
    "        time            INTEGER,\n",
    "        area            TEXT,\n",
    "        main            TEXT,\n",
    "        main_reward     TEXT,\n",
    "        full_reward     TEXT,\n",
    "        sub_a           TEXT,\n",
    "        sub_b           TEXT,\n",
    "        sub_a_reward    TEXT,\n",
    "        sub_b_reward    TEXT );\n",
    "\n",
    "'''\n",
    "\n",
    "c.execute(query_create_table)\n",
    "con.commit()\n",
    "\n",
    "db  = create_engine( 'sqlite:///../sql_databases/quests.sqlite' )\n",
    "con = db.connect()\n",
    "\n",
    "df_village.to_sql( 'village_quests', con=con, if_exists='append', index=False )\n",
    "df_train.to_sql( 'train_quests', con=con, if_exists='append', index=False )"
   ]
  }
 ],
 "metadata": {
  "hide_input": false,
  "kernelspec": {
   "display_name": "Python 3 (ipykernel)",
   "language": "python",
   "name": "python3"
  },
  "language_info": {
   "codemirror_mode": {
    "name": "ipython",
    "version": 3
   },
   "file_extension": ".py",
   "mimetype": "text/x-python",
   "name": "python",
   "nbconvert_exporter": "python",
   "pygments_lexer": "ipython3",
   "version": "3.9.5"
  },
  "varInspector": {
   "cols": {
    "lenName": 16,
    "lenType": 16,
    "lenVar": 40
   },
   "kernels_config": {
    "python": {
     "delete_cmd_postfix": "",
     "delete_cmd_prefix": "del ",
     "library": "var_list.py",
     "varRefreshCmd": "print(var_dic_list())"
    },
    "r": {
     "delete_cmd_postfix": ") ",
     "delete_cmd_prefix": "rm(",
     "library": "var_list.r",
     "varRefreshCmd": "cat(var_dic_list()) "
    }
   },
   "types_to_exclude": [
    "module",
    "function",
    "builtin_function_or_method",
    "instance",
    "_Feature"
   ],
   "window_display": false
  }
 },
 "nbformat": 4,
 "nbformat_minor": 5
}
