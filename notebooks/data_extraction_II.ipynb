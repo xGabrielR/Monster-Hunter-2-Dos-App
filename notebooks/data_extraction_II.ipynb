{
 "cells": [
  {
   "cell_type": "markdown",
   "id": "56d52338",
   "metadata": {},
   "source": [
    "# 0.0. Info Table\n",
    "\n",
    "Monster Hunter 2 Dos Database App\n",
    "\n",
    "    1. Lista de Quests separadas por Ranks.\n",
    "    2. Lista de Monstros e suas caracteristicas.\n",
    "    3. Lista de Kitchen Combination separadas por season."
   ]
  },
  {
   "cell_type": "code",
   "execution_count": 1,
   "id": "fd288ba7",
   "metadata": {},
   "outputs": [],
   "source": [
    "import re\n",
    "import sqlite3\n",
    "import requests\n",
    "import pandas as pd\n",
    "\n",
    "from bs4 import BeautifulSoup\n",
    "from sqlalchemy import create_engine"
   ]
  },
  {
   "cell_type": "markdown",
   "id": "59538040",
   "metadata": {},
   "source": [
    "# 1.0. List Monsters."
   ]
  },
  {
   "cell_type": "markdown",
   "id": "a90f3a2d",
   "metadata": {},
   "source": [
    "## 1.1. List Monsters Collection"
   ]
  },
  {
   "cell_type": "code",
   "execution_count": 2,
   "id": "028916ad",
   "metadata": {},
   "outputs": [],
   "source": [
    "url = 'https://monsterhunter.fandom.com/wiki/MH2:_Monsters'\n",
    "hdr = {'User-Agent': 'Mozilla/5.0 (Macintosh; Intel Mac OS X 10_11_5),AppleWebKit/537.36 (KHTML, like Gecko) Chrome/50.0.2661.102 Safari/537.36'}\n",
    "\n",
    "soup = BeautifulSoup( requests.get( url, hdr).text, 'html.parser' )"
   ]
  },
  {
   "cell_type": "markdown",
   "id": "c5e43133",
   "metadata": {},
   "source": [
    "## 1.2. Monster Details"
   ]
  },
  {
   "cell_type": "code",
   "execution_count": 3,
   "id": "ea8ed681",
   "metadata": {},
   "outputs": [],
   "source": [
    "monster_names = [p.get_text() for p in soup.find_all('b')][:-12]\n",
    "monster_names = [p.replace(' ', '_') for p in monster_names]"
   ]
  },
  {
   "cell_type": "code",
   "execution_count": 5,
   "id": "23b69ee6",
   "metadata": {},
   "outputs": [],
   "source": [
    "df = pd.DataFrame( columns=['jp_name', 'class', 'element', 'weakness', 'generation'] )\n",
    "\n",
    "for i in range( len( monster_names ) ):\n",
    "    url = 'https://monsterhunter.fandom.com/wiki/' + monster_names[i]\n",
    "    soup = BeautifulSoup( requests.get( url, hdr).text, 'html.parser' )\n",
    "\n",
    "    # Get Data\n",
    "    jp_name = re.match( '\\w+', \n",
    "              soup.find('aside').find_all( 'h2' )[1].get_text().replace('\\xa0', ' ') ).group(0)\n",
    "\n",
    "    m_class = soup.find_all('section')[1].find('div', class_='pi-data-value pi-font').get_text()\n",
    "\n",
    "    m_element = soup.find_all('section')[1].find_all('div', class_='pi-data-value pi-font')[1].get_text()\n",
    "\n",
    "    m_weakness = [p.get_text().replace(' ', '') for p in soup.find_all('section')[1].find_all('div', class_='pi-data-value pi-font')[3].find_all('small')][:2]\n",
    "    \n",
    "    if len(m_weakness) <= 0:\n",
    "        m_weakness = 'None' \n",
    "    if len(m_weakness) == 2:\n",
    "        m_weakness = m_weakness[0] + ', ' + m_weakness[1]\n",
    "    else:\n",
    "        m_weakness = m_weakness[0]\n",
    "\n",
    "    m_generation = soup.find_all('section')[1].find_all('div', class_='pi-data-value pi-font')[-1].get_text()\n",
    "    \n",
    "    # Generate Aux DataFrame\n",
    "    aux = pd.DataFrame( [jp_name, m_class, m_element, m_weakness, m_generation] ).T\n",
    "    aux.columns = ['jp_name', 'class', 'element', 'weakness', 'generation']\n",
    "    \n",
    "    # Concat Dataframe\n",
    "    df = pd.concat( [df, aux], axis=0 )"
   ]
  },
  {
   "cell_type": "markdown",
   "id": "41c08d9f",
   "metadata": {},
   "source": [
    "## 1.3. Monster Data Cleaning"
   ]
  },
  {
   "cell_type": "code",
   "execution_count": 7,
   "id": "ad5f4216",
   "metadata": {},
   "outputs": [],
   "source": [
    "df1 = df\n",
    "df1 = df1.reset_index( drop=True )\n",
    "\n",
    "# Combine with Names \n",
    "monster_names = [p.replace('_', ' ') for p in monster_names]\n",
    "monster_names = pd.Series( monster_names )\n",
    "monster_names.name = 'name'\n",
    "\n",
    "# Select Columns\n",
    "df1 = pd.concat( [df1, monster_names], axis=1 )\n",
    "df1 = df1[['name', 'jp_name', 'class', 'element', 'weakness', 'generation']]\n",
    "\n",
    "# Individual Columns\n",
    "df1['class'] = df1['class'].apply( lambda x: re.match('[a-zA-Z ]+', \n",
    "                                                       x).group(0).strip())\n",
    "\n",
    "df1['element'] = df1['element'].replace('N/A', 'None')\n",
    "df1['element'] = df1['element'].str.extract('([a-zA-Z ]+)')[0].apply( lambda x: x.strip() )\n",
    "df1['element'] = df1['element'].replace('Earth', 'None')\n",
    "\n",
    "df1.loc[df1['element'].str.contains('Dragon '), 'element'] = 'Dragon, Fire'\n",
    "df1.loc[df1['element'].str.contains('Thunder '), 'element'] = 'Dragon, Thunder'\n",
    "df1.loc[df1['element'].str.contains('Fire '), 'element'] = 'Fire'\n",
    "\n",
    "df1['weakness'] = df1['weakness'].replace('N', 'None')\n",
    "df1['weakness'] = df1['weakness'].replace(', (2ndGen)', '')\n",
    "df1.loc[34, 'weakness'] = 'Ice'\n",
    "\n",
    "df1['generation'] = df1['generation'].apply( lambda x: x.replace('*', ''))\n",
    "\n",
    "df1 = df1.reset_index( drop=True )\n",
    "df1 = df1.drop_duplicates()"
   ]
  },
  {
   "cell_type": "markdown",
   "id": "f9d43b30",
   "metadata": {},
   "source": [
    "## 1.4 List Monsters Storange"
   ]
  },
  {
   "cell_type": "code",
   "execution_count": 20,
   "id": "cf25821f",
   "metadata": {},
   "outputs": [],
   "source": [
    "df1.to_csv('../data/monsters.csv')\n",
    "\n",
    "con = sqlite3.connect( '../sql_databases/monsters.sqlite' )\n",
    "c   = con.cursor()\n",
    "\n",
    "query_create_table = '''\n",
    "    CREATE TABLE monsters (\n",
    "        name          TEXT,\n",
    "        jp_name       TEXT,\n",
    "        class         TEXT,\n",
    "        element       TEXT,\n",
    "        weakness      TEXT,\n",
    "        generation    TEXT );'''\n",
    "\n",
    "c.execute( query_create_table )\n",
    "con.commit()\n",
    "\n",
    "db = create_engine( 'sqlite:///../sql_databases/monsters.sqlite', echo=False )\n",
    "con = db.connect()\n",
    "\n",
    "df1.to_sql( 'monsters', con=con, if_exists='append', index=False )"
   ]
  }
 ],
 "metadata": {
  "hide_input": false,
  "kernelspec": {
   "display_name": "Python 3 (ipykernel)",
   "language": "python",
   "name": "python3"
  },
  "language_info": {
   "codemirror_mode": {
    "name": "ipython",
    "version": 3
   },
   "file_extension": ".py",
   "mimetype": "text/x-python",
   "name": "python",
   "nbconvert_exporter": "python",
   "pygments_lexer": "ipython3",
   "version": "3.9.5"
  },
  "varInspector": {
   "cols": {
    "lenName": 16,
    "lenType": 16,
    "lenVar": 40
   },
   "kernels_config": {
    "python": {
     "delete_cmd_postfix": "",
     "delete_cmd_prefix": "del ",
     "library": "var_list.py",
     "varRefreshCmd": "print(var_dic_list())"
    },
    "r": {
     "delete_cmd_postfix": ") ",
     "delete_cmd_prefix": "rm(",
     "library": "var_list.r",
     "varRefreshCmd": "cat(var_dic_list()) "
    }
   },
   "types_to_exclude": [
    "module",
    "function",
    "builtin_function_or_method",
    "instance",
    "_Feature"
   ],
   "window_display": false
  }
 },
 "nbformat": 4,
 "nbformat_minor": 5
}
