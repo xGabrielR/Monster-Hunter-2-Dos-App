{
 "cells": [
  {
   "cell_type": "markdown",
   "id": "56d52338",
   "metadata": {},
   "source": [
    "# 0.0. Info Table\n",
    "\n",
    "Monster Hunter 2 Dos Database App\n",
    "\n",
    "    1. Lista de Quests separadas por Ranks.\n",
    "    2. Lista de Monstros e suas caracteristicas.\n",
    "    3. Lista de Kitchen Combination separadas por season."
   ]
  },
  {
   "cell_type": "code",
   "execution_count": 24,
   "id": "fd288ba7",
   "metadata": {},
   "outputs": [],
   "source": [
    "import re\n",
    "import sqlite3\n",
    "import requests\n",
    "import pandas as pd\n",
    "\n",
    "from bs4 import BeautifulSoup\n",
    "from sqlalchemy import create_engine"
   ]
  },
  {
   "cell_type": "markdown",
   "id": "3fca50c9",
   "metadata": {},
   "source": [
    "# 1.0. Monster Data"
   ]
  },
  {
   "cell_type": "markdown",
   "id": "9f657ea1",
   "metadata": {},
   "source": [
    "## 1.1. Monster Data Collect"
   ]
  },
  {
   "cell_type": "code",
   "execution_count": 144,
   "id": "6b18bd6c",
   "metadata": {},
   "outputs": [],
   "source": [
    "url = 'https://monsterhunter.fandom.com/wiki/MH2:_Monsters'\n",
    "hdr = {'User-Agent': 'Mozilla/5.0 (Macintosh; Intel Mac OS X 10_11_5),AppleWebKit/537.36 (KHTML, like Gecko) Chrome/50.0.2661.102 Safari/537.36'}\n",
    "\n",
    "soup = BeautifulSoup( requests.get( url, hdr ).text, 'html.parser' )"
   ]
  },
  {
   "cell_type": "code",
   "execution_count": 145,
   "id": "2264e274",
   "metadata": {},
   "outputs": [],
   "source": [
    "# List Monster Names\n",
    "list_monsters  = [p.get_text() for p in soup.find_all('b')][:-12]\n",
    "list_monsters1 = [p.replace(' ', '_') for p in list_monsters] "
   ]
  },
  {
   "cell_type": "code",
   "execution_count": 147,
   "id": "04f43de3",
   "metadata": {
    "collapsed": true
   },
   "outputs": [
    {
     "name": "stdout",
     "output_type": "stream",
     "text": [
      "https://monsterhunter.fandom.com/wiki/Felyne\n",
      "https://monsterhunter.fandom.com/wiki/Melynx\n",
      "https://monsterhunter.fandom.com/wiki/Shakalaka\n",
      "https://monsterhunter.fandom.com/wiki/Vespoid\n",
      "https://monsterhunter.fandom.com/wiki/Hornetaur\n",
      "https://monsterhunter.fandom.com/wiki/Great_Thunderbug\n",
      "https://monsterhunter.fandom.com/wiki/Anteka\n",
      "https://monsterhunter.fandom.com/wiki/Popo\n",
      "https://monsterhunter.fandom.com/wiki/Kelbi\n",
      "https://monsterhunter.fandom.com/wiki/Mosswine\n",
      "https://monsterhunter.fandom.com/wiki/Aptonoth\n",
      "https://monsterhunter.fandom.com/wiki/Apceros\n",
      "https://monsterhunter.fandom.com/wiki/Velociprey\n",
      "https://monsterhunter.fandom.com/wiki/Giaprey\n",
      "https://monsterhunter.fandom.com/wiki/Genprey\n",
      "https://monsterhunter.fandom.com/wiki/Ioprey\n",
      "https://monsterhunter.fandom.com/wiki/Remobra\n",
      "https://monsterhunter.fandom.com/wiki/Cephalos\n",
      "https://monsterhunter.fandom.com/wiki/Hermitaur\n",
      "https://monsterhunter.fandom.com/wiki/Ceanataur\n",
      "https://monsterhunter.fandom.com/wiki/Bullfango\n",
      "https://monsterhunter.fandom.com/wiki/Conga\n",
      "https://monsterhunter.fandom.com/wiki/Blango\n",
      "https://monsterhunter.fandom.com/wiki/Velocidrome\n",
      "https://monsterhunter.fandom.com/wiki/Gendrome\n",
      "https://monsterhunter.fandom.com/wiki/Iodrome\n",
      "https://monsterhunter.fandom.com/wiki/Yian_Kut-Ku\n",
      "https://monsterhunter.fandom.com/wiki/Blue_Yian_Kut-Ku\n",
      "https://monsterhunter.fandom.com/wiki/Yian_Garuga\n",
      "https://monsterhunter.fandom.com/wiki/Gypceros\n",
      "https://monsterhunter.fandom.com/wiki/Purple_Gypceros\n",
      "https://monsterhunter.fandom.com/wiki/Rathian\n",
      "https://monsterhunter.fandom.com/wiki/Pink_Rathian\n",
      "https://monsterhunter.fandom.com/wiki/Gold_Rathian\n",
      "https://monsterhunter.fandom.com/wiki/Rathalos\n",
      "https://monsterhunter.fandom.com/wiki/Azure_Rathalos\n",
      "https://monsterhunter.fandom.com/wiki/Silver_Rathalos\n",
      "https://monsterhunter.fandom.com/wiki/Khezu\n",
      "https://monsterhunter.fandom.com/wiki/Red_Khezu\n",
      "https://monsterhunter.fandom.com/wiki/Basarios\n",
      "https://monsterhunter.fandom.com/wiki/Gravios\n",
      "https://monsterhunter.fandom.com/wiki/Black_Gravios\n",
      "https://monsterhunter.fandom.com/wiki/Monoblos\n",
      "https://monsterhunter.fandom.com/wiki/White_Monoblos\n",
      "https://monsterhunter.fandom.com/wiki/Diablos\n",
      "https://monsterhunter.fandom.com/wiki/Black_Diablos\n",
      "https://monsterhunter.fandom.com/wiki/Cephadrome\n",
      "https://monsterhunter.fandom.com/wiki/Plesioth\n",
      "https://monsterhunter.fandom.com/wiki/Green_Plesioth\n",
      "https://monsterhunter.fandom.com/wiki/Daimyo_Hermitaur\n",
      "https://monsterhunter.fandom.com/wiki/Shogun_Ceanataur\n",
      "https://monsterhunter.fandom.com/wiki/Shen_Gaoren\n",
      "https://monsterhunter.fandom.com/wiki/Bulldrome\n",
      "https://monsterhunter.fandom.com/wiki/Congalala\n",
      "https://monsterhunter.fandom.com/wiki/Blangonga\n",
      "https://monsterhunter.fandom.com/wiki/Rajang\n",
      "https://monsterhunter.fandom.com/wiki/Kirin\n",
      "https://monsterhunter.fandom.com/wiki/Kushala_Daora\n",
      "https://monsterhunter.fandom.com/wiki/Rusted_Kushala_Daora\n",
      "https://monsterhunter.fandom.com/wiki/Chameleos\n",
      "https://monsterhunter.fandom.com/wiki/Lunastra\n",
      "https://monsterhunter.fandom.com/wiki/Teostra\n",
      "https://monsterhunter.fandom.com/wiki/Lao-Shan_Lung\n",
      "https://monsterhunter.fandom.com/wiki/Ashen_Lao-Shan_Lung\n",
      "https://monsterhunter.fandom.com/wiki/Yama_Tsukami\n",
      "https://monsterhunter.fandom.com/wiki/Fatalis\n",
      "https://monsterhunter.fandom.com/wiki/Crimson_Fatalis\n",
      "https://monsterhunter.fandom.com/wiki/White_Fatalis\n"
     ]
    }
   ],
   "source": [
    "df_monsters = pd.DataFrame( columns=['jp_name', 'class', 'element', 'weak', 'gen'] )\n",
    "\n",
    "for i in range( len( list_monsters1 ) ):\n",
    "    url = 'https://monsterhunter.fandom.com/wiki/' + list_monsters1[i]\n",
    "    soup = BeautifulSoup( requests.get( url, hdr ).text, 'html.parser' )\n",
    "    print(url)\n",
    "    \n",
    "    # jp_name, class, element, weakness, gen\n",
    "    jp_name    = re.match( '\\w+' , soup.find('aside').find_all('h2')[1].get_text() ).group(0)\n",
    "    m_class    = soup.find('aside').find_all('section', class_='pi-item pi-group pi-border-color')[1].find_all('a')[1].get_text()\n",
    "    m_element  = soup.find('aside').find_all('section', class_='pi-item pi-group pi-border-color')[1].find_all('div', class_='pi-data-value pi-font')[1].get_text().replace(' ', '')\n",
    "    m_gen      = soup.find_all('section', class_='pi-item pi-group pi-border-color')[1].find_all( 'div', class_='pi-data-value pi-font' )[-1].get_text()\n",
    "    m_weakness = [p.get_text().replace(' ', '') for p in \n",
    "                          soup.find_all('section', class_='pi-item pi-group pi-border-color')[1]\n",
    "                              .find_all('div', class_='pi-data-value pi-font')[3]\n",
    "                              .find_all('small')][:2]\n",
    "    \n",
    "    if len( m_weakness ) == 0:\n",
    "        m_weakness = 'None'\n",
    "    \n",
    "    if len( m_weakness ) == 2:\n",
    "        m_weakness = m_weakness[0] + ', ' + m_weakness[1]\n",
    "        \n",
    "    else:\n",
    "        m_weakness = m_weakness[0]\n",
    "    \n",
    "    # Generate DataFrame\n",
    "    aux = pd.DataFrame( [jp_name, m_class, m_element, m_weakness, m_gen] ).T\n",
    "    aux.columns = ['jp_name', 'class', 'element', 'weak', 'gen']\n",
    "    \n",
    "    # DataFrame with all Monsters\n",
    "    df_monsters = pd.concat( [df_monsters, aux], axis=0 ) "
   ]
  },
  {
   "cell_type": "markdown",
   "id": "ef20540c",
   "metadata": {},
   "source": [
    "## 1.2. Monster Data Cleaning"
   ]
  },
  {
   "cell_type": "code",
   "execution_count": 199,
   "id": "35e93134",
   "metadata": {},
   "outputs": [
    {
     "data": {
      "text/html": [
       "<div>\n",
       "<style scoped>\n",
       "    .dataframe tbody tr th:only-of-type {\n",
       "        vertical-align: middle;\n",
       "    }\n",
       "\n",
       "    .dataframe tbody tr th {\n",
       "        vertical-align: top;\n",
       "    }\n",
       "\n",
       "    .dataframe thead th {\n",
       "        text-align: right;\n",
       "    }\n",
       "</style>\n",
       "<table border=\"1\" class=\"dataframe\">\n",
       "  <thead>\n",
       "    <tr style=\"text-align: right;\">\n",
       "      <th></th>\n",
       "      <th>name</th>\n",
       "      <th>jp_name</th>\n",
       "      <th>class</th>\n",
       "      <th>element</th>\n",
       "      <th>weak</th>\n",
       "      <th>gen</th>\n",
       "    </tr>\n",
       "  </thead>\n",
       "  <tbody>\n",
       "    <tr>\n",
       "      <th>0</th>\n",
       "      <td>Felyne</td>\n",
       "      <td>アイルー</td>\n",
       "      <td>Lynian</td>\n",
       "      <td>None</td>\n",
       "      <td>Fire, Water</td>\n",
       "      <td>First</td>\n",
       "    </tr>\n",
       "    <tr>\n",
       "      <th>1</th>\n",
       "      <td>Melynx</td>\n",
       "      <td>メラルー</td>\n",
       "      <td>Lynian</td>\n",
       "      <td>None</td>\n",
       "      <td>Fire, Water</td>\n",
       "      <td>First</td>\n",
       "    </tr>\n",
       "    <tr>\n",
       "      <th>2</th>\n",
       "      <td>Shakalaka</td>\n",
       "      <td>チャチャブー</td>\n",
       "      <td>Lynian</td>\n",
       "      <td>None</td>\n",
       "      <td>Ice</td>\n",
       "      <td>Second</td>\n",
       "    </tr>\n",
       "    <tr>\n",
       "      <th>3</th>\n",
       "      <td>Vespoid</td>\n",
       "      <td>ランゴスタ</td>\n",
       "      <td>Neopteron</td>\n",
       "      <td>None</td>\n",
       "      <td>Fire, Poison</td>\n",
       "      <td>First</td>\n",
       "    </tr>\n",
       "    <tr>\n",
       "      <th>4</th>\n",
       "      <td>Hornetaur</td>\n",
       "      <td>カンタロス</td>\n",
       "      <td>Neopteron</td>\n",
       "      <td>None</td>\n",
       "      <td>Fire, Water</td>\n",
       "      <td>First</td>\n",
       "    </tr>\n",
       "  </tbody>\n",
       "</table>\n",
       "</div>"
      ],
      "text/plain": [
       "        name jp_name      class element          weak     gen\n",
       "0     Felyne    アイルー     Lynian    None   Fire, Water   First\n",
       "1     Melynx    メラルー     Lynian    None   Fire, Water   First\n",
       "2  Shakalaka  チャチャブー     Lynian    None           Ice  Second\n",
       "3    Vespoid   ランゴスタ  Neopteron    None  Fire, Poison   First\n",
       "4  Hornetaur   カンタロス  Neopteron    None   Fire, Water   First"
      ]
     },
     "execution_count": 199,
     "metadata": {},
     "output_type": "execute_result"
    }
   ],
   "source": [
    "df = df_monsters\n",
    "\n",
    "# First Cleaning and english names\n",
    "df = df.reset_index( drop=True )\n",
    "df['name'] = list_monsters\n",
    "df = df[['name', 'jp_name', 'class', 'element', 'weak', 'gen']]\n",
    "\n",
    "# Individual Columns\n",
    "df['gen'] = df['gen'].apply( lambda x: x.replace('*', ''))\n",
    "\n",
    "df.loc[df['weak'].str.contains('N'), 'weak']   = 'None'\n",
    "df.loc[df['weak'].str.contains('2nd'), 'weak'] = 'Ice, Dragon'\n",
    "\n",
    "df['element'] = df['element'].apply( lambda x: x.replace('N/A', 'None'))\n",
    "df['element'] = df['element'].str.extract('([a-zA-Z ]+)')\n",
    "df.loc[df['element'] == 'Earth', 'element'] = 'None'\n",
    "df.loc[df['element'] == 'FireDragon', 'element'] = 'Dragon'\n",
    "df.loc[df['element'] == 'ThunderDragon', 'element'] = 'Dragon'\n",
    "df.loc[df['element'] == 'DragonFireBlackFlame', 'element'] = 'Dragon'\n",
    "df.loc[df['element'] == 'DragonFireCrimsonDemon', 'element'] = 'Dragon'\n",
    "\n",
    "df = df.reset_index( drop=True )\n",
    "\n",
    "df.head()"
   ]
  },
  {
   "cell_type": "markdown",
   "id": "aac22bea",
   "metadata": {},
   "source": [
    "## 1.3. Monster Data Storange"
   ]
  },
  {
   "cell_type": "code",
   "execution_count": 204,
   "id": "8defb655",
   "metadata": {},
   "outputs": [],
   "source": [
    "con = sqlite3.connect( '../sql_databases/monsters.sqlite' )\n",
    "c   = con.cursor()\n",
    "\n",
    "query_create_table = '''\n",
    "    CREATE TABLE monsters (\n",
    "        name       TEXT,\n",
    "        jp_name    TEXT,\n",
    "        class      TEXT,\n",
    "        element    TEXT,\n",
    "        weak       TEXT,\n",
    "        gen        TEXT );'''\n",
    "\n",
    "c.execute( query_create_table )\n",
    "con.commit()\n",
    "\n",
    "con = create_engine( 'sqlite:///../sql_databases/monsters.sqlite' )\n",
    "df.to_sql( 'monsters', con=con, if_exists='append', index=False )"
   ]
  }
 ],
 "metadata": {
  "hide_input": false,
  "kernelspec": {
   "display_name": "Python 3 (ipykernel)",
   "language": "python",
   "name": "python3"
  },
  "language_info": {
   "codemirror_mode": {
    "name": "ipython",
    "version": 3
   },
   "file_extension": ".py",
   "mimetype": "text/x-python",
   "name": "python",
   "nbconvert_exporter": "python",
   "pygments_lexer": "ipython3",
   "version": "3.9.5"
  },
  "varInspector": {
   "cols": {
    "lenName": 16,
    "lenType": 16,
    "lenVar": 40
   },
   "kernels_config": {
    "python": {
     "delete_cmd_postfix": "",
     "delete_cmd_prefix": "del ",
     "library": "var_list.py",
     "varRefreshCmd": "print(var_dic_list())"
    },
    "r": {
     "delete_cmd_postfix": ") ",
     "delete_cmd_prefix": "rm(",
     "library": "var_list.r",
     "varRefreshCmd": "cat(var_dic_list()) "
    }
   },
   "types_to_exclude": [
    "module",
    "function",
    "builtin_function_or_method",
    "instance",
    "_Feature"
   ],
   "window_display": false
  }
 },
 "nbformat": 4,
 "nbformat_minor": 5
}
